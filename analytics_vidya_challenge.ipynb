{
 "cells": [
  {
   "cell_type": "code",
   "execution_count": 205,
   "metadata": {},
   "outputs": [],
   "source": [
    "import numpy as np\n",
    "import pandas as pd\n"
   ]
  },
  {
   "cell_type": "code",
   "execution_count": 206,
   "metadata": {},
   "outputs": [],
   "source": [
    "cim=r'E:/Python_data Science/anaytics_vidhya/coupon_item_mapping.csv'\n",
    "cdemo=r'E:/Python_data Science/anaytics_vidhya/customer_demographics.csv'\n",
    "camdata=r'E:/Python_data Science/anaytics_vidhya/campaign_data.csv'\n",
    "train=r'E:/Python_data Science/anaytics_vidhya/train.csv'\n",
    "ctd=r'E:/Python_data Science/anaytics_vidhya/customer_transaction_data.csv'\n",
    "item=r'E:/Python_data Science/anaytics_vidhya/item_data.csv'"
   ]
  },
  {
   "cell_type": "code",
   "execution_count": 207,
   "metadata": {},
   "outputs": [],
   "source": [
    "cim=pd.read_csv(cim)\n",
    "cdemo=pd.read_csv(cdemo)\n",
    "camdata=pd.read_csv(camdata)\n",
    "train=pd.read_csv(train)\n",
    "ctd=pd.read_csv(ctd)\n",
    "item=pd.read_csv(item)"
   ]
  },
  {
   "cell_type": "code",
   "execution_count": 208,
   "metadata": {},
   "outputs": [],
   "source": [
    "test_file=r'E:/Python_data Science/anaytics_vidhya/test_QyjYwdj.csv'\n",
    "test=pd.read_csv(test_file)"
   ]
  },
  {
   "cell_type": "code",
   "execution_count": 209,
   "metadata": {},
   "outputs": [
    {
     "data": {
      "text/plain": [
       "id             50226\n",
       "campaign_id       10\n",
       "coupon_id        331\n",
       "customer_id     1250\n",
       "dtype: int64"
      ]
     },
     "execution_count": 209,
     "metadata": {},
     "output_type": "execute_result"
    }
   ],
   "source": [
    "test.nunique()"
   ]
  },
  {
   "cell_type": "code",
   "execution_count": 210,
   "metadata": {},
   "outputs": [
    {
     "data": {
      "text/html": [
       "<div>\n",
       "<style scoped>\n",
       "    .dataframe tbody tr th:only-of-type {\n",
       "        vertical-align: middle;\n",
       "    }\n",
       "\n",
       "    .dataframe tbody tr th {\n",
       "        vertical-align: top;\n",
       "    }\n",
       "\n",
       "    .dataframe thead th {\n",
       "        text-align: right;\n",
       "    }\n",
       "</style>\n",
       "<table border=\"1\" class=\"dataframe\">\n",
       "  <thead>\n",
       "    <tr style=\"text-align: right;\">\n",
       "      <th></th>\n",
       "      <th>coupon_id</th>\n",
       "      <th>item_id</th>\n",
       "    </tr>\n",
       "  </thead>\n",
       "  <tbody>\n",
       "    <tr>\n",
       "      <th>0</th>\n",
       "      <td>105</td>\n",
       "      <td>37</td>\n",
       "    </tr>\n",
       "    <tr>\n",
       "      <th>1</th>\n",
       "      <td>107</td>\n",
       "      <td>75</td>\n",
       "    </tr>\n",
       "    <tr>\n",
       "      <th>2</th>\n",
       "      <td>494</td>\n",
       "      <td>76</td>\n",
       "    </tr>\n",
       "    <tr>\n",
       "      <th>3</th>\n",
       "      <td>522</td>\n",
       "      <td>77</td>\n",
       "    </tr>\n",
       "    <tr>\n",
       "      <th>4</th>\n",
       "      <td>518</td>\n",
       "      <td>77</td>\n",
       "    </tr>\n",
       "  </tbody>\n",
       "</table>\n",
       "</div>"
      ],
      "text/plain": [
       "   coupon_id  item_id\n",
       "0        105       37\n",
       "1        107       75\n",
       "2        494       76\n",
       "3        522       77\n",
       "4        518       77"
      ]
     },
     "execution_count": 210,
     "metadata": {},
     "output_type": "execute_result"
    }
   ],
   "source": [
    "cim.head()"
   ]
  },
  {
   "cell_type": "code",
   "execution_count": 211,
   "metadata": {},
   "outputs": [],
   "source": [
    "for col in ['start_date','end_date']:\n",
    "    camdata[col]=pd.to_datetime(camdata[col])"
   ]
  },
  {
   "cell_type": "code",
   "execution_count": 212,
   "metadata": {},
   "outputs": [],
   "source": [
    "camdata['duration']=(camdata['end_date']-camdata['start_date']).dt.days"
   ]
  },
  {
   "cell_type": "code",
   "execution_count": 213,
   "metadata": {},
   "outputs": [],
   "source": [
    "for col in ['start_date','end_date']:\n",
    "    camdata[col+'_dow']=camdata[col].dt.dayofweek\n",
    "    camdata[col+'_day']=camdata[col].dt.dayofyear\n"
   ]
  },
  {
   "cell_type": "code",
   "execution_count": 214,
   "metadata": {},
   "outputs": [],
   "source": [
    "del camdata['start_date']\n",
    "del camdata['end_date']"
   ]
  },
  {
   "cell_type": "markdown",
   "metadata": {},
   "source": [
    "# merge train/test campign data + customer demographics\n"
   ]
  },
  {
   "cell_type": "code",
   "execution_count": 215,
   "metadata": {},
   "outputs": [],
   "source": [
    "train_all=pd.merge(train,camdata,on='campaign_id',how='left')\n",
    "test_all=pd.merge(test,camdata,on='campaign_id',how='left')"
   ]
  },
  {
   "cell_type": "code",
   "execution_count": 216,
   "metadata": {},
   "outputs": [],
   "source": [
    "train_all=pd.merge(train_all,cdemo,on='customer_id',how='left')\n",
    "test_all=pd.merge(test_all,cdemo,on='customer_id',how='left')"
   ]
  },
  {
   "cell_type": "code",
   "execution_count": 217,
   "metadata": {},
   "outputs": [
    {
     "data": {
      "text/plain": [
       "(78369, 17)"
      ]
     },
     "execution_count": 217,
     "metadata": {},
     "output_type": "execute_result"
    }
   ],
   "source": [
    "train_all.shape"
   ]
  },
  {
   "cell_type": "code",
   "execution_count": 218,
   "metadata": {},
   "outputs": [
    {
     "data": {
      "text/plain": [
       "(50226, 16)"
      ]
     },
     "execution_count": 218,
     "metadata": {},
     "output_type": "execute_result"
    }
   ],
   "source": [
    "test_all.shape"
   ]
  },
  {
   "cell_type": "markdown",
   "metadata": {},
   "source": [
    "# coupon_item"
   ]
  },
  {
   "cell_type": "code",
   "execution_count": 219,
   "metadata": {},
   "outputs": [
    {
     "data": {
      "text/plain": [
       "Established    62842\n",
       "Local          11224\n",
       "Name: brand_type, dtype: int64"
      ]
     },
     "execution_count": 219,
     "metadata": {},
     "output_type": "execute_result"
    }
   ],
   "source": [
    "item['brand_type'].value_counts()"
   ]
  },
  {
   "cell_type": "code",
   "execution_count": 220,
   "metadata": {},
   "outputs": [],
   "source": [
    "coupon_item=pd.merge(cim,item,on='item_id',how='left')"
   ]
  },
  {
   "cell_type": "code",
   "execution_count": 221,
   "metadata": {},
   "outputs": [],
   "source": [
    "coupon_features=coupon_item['coupon_id'].value_counts().reset_index()\n"
   ]
  },
  {
   "cell_type": "code",
   "execution_count": 222,
   "metadata": {},
   "outputs": [],
   "source": [
    "coupon_features.columns=['coupon_id','coupon_occurence_count']"
   ]
  },
  {
   "cell_type": "code",
   "execution_count": 223,
   "metadata": {},
   "outputs": [],
   "source": [
    "temp=coupon_item.groupby(['coupon_id'])['item_id'].nunique().reset_index()\n",
    "coupon_features=pd.merge(coupon_features,temp,on='coupon_id',how='left')\n",
    "del temp\n",
    "coupon_features.rename(columns={'item_id':'coupon_unique_items_count'},inplace=True)"
   ]
  },
  {
   "cell_type": "code",
   "execution_count": 224,
   "metadata": {},
   "outputs": [],
   "source": [
    "temp=pd.crosstab(coupon_item['coupon_id'],coupon_item['category'])\n",
    "temp.columns=[x+'_cat_count' for x in list(temp.columns)]\n",
    "temp.reset_index(inplace=True)\n",
    "coupon_features=pd.merge(coupon_features,temp,on='coupon_id',how='left')\n",
    "del temp"
   ]
  },
  {
   "cell_type": "code",
   "execution_count": 225,
   "metadata": {},
   "outputs": [],
   "source": [
    "temp=coupon_item.groupby(['coupon_id'])['category'].nunique().reset_index()\n",
    "coupon_features=pd.merge(coupon_features,temp,on='coupon_id',how='left')\n",
    "del temp\n",
    "coupon_features.rename(columns={'category':'coupon_unique_category_count'},inplace=True)"
   ]
  },
  {
   "cell_type": "code",
   "execution_count": 226,
   "metadata": {},
   "outputs": [
    {
     "data": {
      "text/plain": [
       "coupon_id      1116\n",
       "item_id       36289\n",
       "brand          2555\n",
       "brand_type        2\n",
       "category         17\n",
       "dtype: int64"
      ]
     },
     "execution_count": 226,
     "metadata": {},
     "output_type": "execute_result"
    }
   ],
   "source": [
    "coupon_item.nunique()"
   ]
  },
  {
   "cell_type": "code",
   "execution_count": 227,
   "metadata": {},
   "outputs": [],
   "source": [
    "temp=pd.crosstab(coupon_item['coupon_id'],coupon_item['brand_type'])\n",
    "temp.columns=[x+'_brand_count' for x in list(temp.columns)]\n",
    "temp.reset_index(inplace=True)\n",
    "coupon_features=pd.merge(coupon_features,temp,on='coupon_id',how='left')\n",
    "del temp"
   ]
  },
  {
   "cell_type": "code",
   "execution_count": 228,
   "metadata": {},
   "outputs": [],
   "source": [
    "temp=coupon_item.groupby(['coupon_id'])['brand_type'].nunique().reset_index()\n",
    "coupon_features=pd.merge(coupon_features,temp,on='coupon_id',how='left')\n",
    "del temp\n",
    "coupon_features.rename(columns={'brand_type':'coupon_unique_brand_type_count'},inplace=True)"
   ]
  },
  {
   "cell_type": "code",
   "execution_count": 229,
   "metadata": {},
   "outputs": [],
   "source": [
    "train_all=pd.merge(train_all,coupon_features,on='coupon_id',how='left')\n",
    "test_all=pd.merge(test_all,coupon_features,on='coupon_id',how='left')"
   ]
  },
  {
   "cell_type": "code",
   "execution_count": 230,
   "metadata": {},
   "outputs": [
    {
     "data": {
      "text/plain": [
       "(78369, 40)"
      ]
     },
     "execution_count": 230,
     "metadata": {},
     "output_type": "execute_result"
    }
   ],
   "source": [
    "train_all.shape"
   ]
  },
  {
   "cell_type": "code",
   "execution_count": 231,
   "metadata": {},
   "outputs": [
    {
     "data": {
      "text/plain": [
       "(50226, 39)"
      ]
     },
     "execution_count": 231,
     "metadata": {},
     "output_type": "execute_result"
    }
   ],
   "source": [
    "test_all.shape"
   ]
  },
  {
   "cell_type": "markdown",
   "metadata": {},
   "source": [
    "# customer_item"
   ]
  },
  {
   "cell_type": "code",
   "execution_count": 232,
   "metadata": {},
   "outputs": [],
   "source": [
    "cust_item=pd.merge(ctd,item,on='item_id',how='left')\n"
   ]
  },
  {
   "cell_type": "code",
   "execution_count": 233,
   "metadata": {},
   "outputs": [
    {
     "data": {
      "text/html": [
       "<div>\n",
       "<style scoped>\n",
       "    .dataframe tbody tr th:only-of-type {\n",
       "        vertical-align: middle;\n",
       "    }\n",
       "\n",
       "    .dataframe tbody tr th {\n",
       "        vertical-align: top;\n",
       "    }\n",
       "\n",
       "    .dataframe thead th {\n",
       "        text-align: right;\n",
       "    }\n",
       "</style>\n",
       "<table border=\"1\" class=\"dataframe\">\n",
       "  <thead>\n",
       "    <tr style=\"text-align: right;\">\n",
       "      <th></th>\n",
       "      <th>date</th>\n",
       "      <th>customer_id</th>\n",
       "      <th>item_id</th>\n",
       "      <th>quantity</th>\n",
       "      <th>selling_price</th>\n",
       "      <th>other_discount</th>\n",
       "      <th>coupon_discount</th>\n",
       "      <th>brand</th>\n",
       "      <th>brand_type</th>\n",
       "      <th>category</th>\n",
       "    </tr>\n",
       "  </thead>\n",
       "  <tbody>\n",
       "    <tr>\n",
       "      <th>0</th>\n",
       "      <td>2012-01-02</td>\n",
       "      <td>1501</td>\n",
       "      <td>26830</td>\n",
       "      <td>1</td>\n",
       "      <td>35.26</td>\n",
       "      <td>-10.69</td>\n",
       "      <td>0.0</td>\n",
       "      <td>56</td>\n",
       "      <td>Local</td>\n",
       "      <td>Natural Products</td>\n",
       "    </tr>\n",
       "    <tr>\n",
       "      <th>1</th>\n",
       "      <td>2012-01-02</td>\n",
       "      <td>1501</td>\n",
       "      <td>54253</td>\n",
       "      <td>1</td>\n",
       "      <td>53.43</td>\n",
       "      <td>-13.89</td>\n",
       "      <td>0.0</td>\n",
       "      <td>56</td>\n",
       "      <td>Local</td>\n",
       "      <td>Natural Products</td>\n",
       "    </tr>\n",
       "    <tr>\n",
       "      <th>2</th>\n",
       "      <td>2012-01-02</td>\n",
       "      <td>1501</td>\n",
       "      <td>31962</td>\n",
       "      <td>1</td>\n",
       "      <td>106.50</td>\n",
       "      <td>-14.25</td>\n",
       "      <td>0.0</td>\n",
       "      <td>524</td>\n",
       "      <td>Established</td>\n",
       "      <td>Grocery</td>\n",
       "    </tr>\n",
       "    <tr>\n",
       "      <th>3</th>\n",
       "      <td>2012-01-02</td>\n",
       "      <td>1501</td>\n",
       "      <td>33647</td>\n",
       "      <td>1</td>\n",
       "      <td>67.32</td>\n",
       "      <td>0.00</td>\n",
       "      <td>0.0</td>\n",
       "      <td>1134</td>\n",
       "      <td>Established</td>\n",
       "      <td>Grocery</td>\n",
       "    </tr>\n",
       "    <tr>\n",
       "      <th>4</th>\n",
       "      <td>2012-01-02</td>\n",
       "      <td>1501</td>\n",
       "      <td>48199</td>\n",
       "      <td>1</td>\n",
       "      <td>71.24</td>\n",
       "      <td>-28.14</td>\n",
       "      <td>0.0</td>\n",
       "      <td>524</td>\n",
       "      <td>Established</td>\n",
       "      <td>Grocery</td>\n",
       "    </tr>\n",
       "    <tr>\n",
       "      <th>5</th>\n",
       "      <td>2012-01-02</td>\n",
       "      <td>1501</td>\n",
       "      <td>57397</td>\n",
       "      <td>1</td>\n",
       "      <td>71.24</td>\n",
       "      <td>-28.14</td>\n",
       "      <td>0.0</td>\n",
       "      <td>524</td>\n",
       "      <td>Established</td>\n",
       "      <td>Grocery</td>\n",
       "    </tr>\n",
       "    <tr>\n",
       "      <th>6</th>\n",
       "      <td>2012-01-02</td>\n",
       "      <td>857</td>\n",
       "      <td>12424</td>\n",
       "      <td>1</td>\n",
       "      <td>106.50</td>\n",
       "      <td>-14.25</td>\n",
       "      <td>0.0</td>\n",
       "      <td>971</td>\n",
       "      <td>Established</td>\n",
       "      <td>Grocery</td>\n",
       "    </tr>\n",
       "    <tr>\n",
       "      <th>7</th>\n",
       "      <td>2012-01-02</td>\n",
       "      <td>857</td>\n",
       "      <td>14930</td>\n",
       "      <td>1</td>\n",
       "      <td>110.07</td>\n",
       "      <td>0.00</td>\n",
       "      <td>0.0</td>\n",
       "      <td>3235</td>\n",
       "      <td>Established</td>\n",
       "      <td>Meat</td>\n",
       "    </tr>\n",
       "    <tr>\n",
       "      <th>8</th>\n",
       "      <td>2012-01-02</td>\n",
       "      <td>857</td>\n",
       "      <td>16657</td>\n",
       "      <td>1</td>\n",
       "      <td>89.05</td>\n",
       "      <td>-35.26</td>\n",
       "      <td>0.0</td>\n",
       "      <td>2011</td>\n",
       "      <td>Established</td>\n",
       "      <td>Packaged Meat</td>\n",
       "    </tr>\n",
       "    <tr>\n",
       "      <th>9</th>\n",
       "      <td>2012-01-02</td>\n",
       "      <td>67</td>\n",
       "      <td>10537</td>\n",
       "      <td>3</td>\n",
       "      <td>32.06</td>\n",
       "      <td>0.00</td>\n",
       "      <td>0.0</td>\n",
       "      <td>487</td>\n",
       "      <td>Established</td>\n",
       "      <td>Grocery</td>\n",
       "    </tr>\n",
       "    <tr>\n",
       "      <th>10</th>\n",
       "      <td>2012-01-02</td>\n",
       "      <td>67</td>\n",
       "      <td>19560</td>\n",
       "      <td>2</td>\n",
       "      <td>106.86</td>\n",
       "      <td>-2.85</td>\n",
       "      <td>0.0</td>\n",
       "      <td>56</td>\n",
       "      <td>Local</td>\n",
       "      <td>Grocery</td>\n",
       "    </tr>\n",
       "    <tr>\n",
       "      <th>11</th>\n",
       "      <td>2012-01-02</td>\n",
       "      <td>67</td>\n",
       "      <td>21653</td>\n",
       "      <td>1</td>\n",
       "      <td>44.52</td>\n",
       "      <td>-12.11</td>\n",
       "      <td>0.0</td>\n",
       "      <td>56</td>\n",
       "      <td>Local</td>\n",
       "      <td>Grocery</td>\n",
       "    </tr>\n",
       "    <tr>\n",
       "      <th>12</th>\n",
       "      <td>2012-01-02</td>\n",
       "      <td>67</td>\n",
       "      <td>32083</td>\n",
       "      <td>1</td>\n",
       "      <td>8.90</td>\n",
       "      <td>0.00</td>\n",
       "      <td>0.0</td>\n",
       "      <td>487</td>\n",
       "      <td>Established</td>\n",
       "      <td>Grocery</td>\n",
       "    </tr>\n",
       "    <tr>\n",
       "      <th>13</th>\n",
       "      <td>2012-01-02</td>\n",
       "      <td>751</td>\n",
       "      <td>10423</td>\n",
       "      <td>1</td>\n",
       "      <td>81.57</td>\n",
       "      <td>0.00</td>\n",
       "      <td>0.0</td>\n",
       "      <td>2088</td>\n",
       "      <td>Established</td>\n",
       "      <td>Pharmaceutical</td>\n",
       "    </tr>\n",
       "    <tr>\n",
       "      <th>14</th>\n",
       "      <td>2012-01-02</td>\n",
       "      <td>751</td>\n",
       "      <td>10565</td>\n",
       "      <td>1</td>\n",
       "      <td>71.24</td>\n",
       "      <td>-35.26</td>\n",
       "      <td>0.0</td>\n",
       "      <td>1162</td>\n",
       "      <td>Established</td>\n",
       "      <td>Pharmaceutical</td>\n",
       "    </tr>\n",
       "    <tr>\n",
       "      <th>15</th>\n",
       "      <td>2012-01-02</td>\n",
       "      <td>751</td>\n",
       "      <td>17035</td>\n",
       "      <td>1</td>\n",
       "      <td>127.88</td>\n",
       "      <td>0.00</td>\n",
       "      <td>0.0</td>\n",
       "      <td>2088</td>\n",
       "      <td>Established</td>\n",
       "      <td>Pharmaceutical</td>\n",
       "    </tr>\n",
       "    <tr>\n",
       "      <th>16</th>\n",
       "      <td>2012-01-02</td>\n",
       "      <td>751</td>\n",
       "      <td>27801</td>\n",
       "      <td>2</td>\n",
       "      <td>71.24</td>\n",
       "      <td>-27.78</td>\n",
       "      <td>0.0</td>\n",
       "      <td>1235</td>\n",
       "      <td>Established</td>\n",
       "      <td>Grocery</td>\n",
       "    </tr>\n",
       "    <tr>\n",
       "      <th>17</th>\n",
       "      <td>2012-01-02</td>\n",
       "      <td>751</td>\n",
       "      <td>30645</td>\n",
       "      <td>1</td>\n",
       "      <td>127.88</td>\n",
       "      <td>0.00</td>\n",
       "      <td>0.0</td>\n",
       "      <td>2088</td>\n",
       "      <td>Established</td>\n",
       "      <td>Pharmaceutical</td>\n",
       "    </tr>\n",
       "    <tr>\n",
       "      <th>18</th>\n",
       "      <td>2012-01-02</td>\n",
       "      <td>751</td>\n",
       "      <td>30832</td>\n",
       "      <td>1</td>\n",
       "      <td>213.36</td>\n",
       "      <td>-106.86</td>\n",
       "      <td>0.0</td>\n",
       "      <td>673</td>\n",
       "      <td>Established</td>\n",
       "      <td>Grocery</td>\n",
       "    </tr>\n",
       "    <tr>\n",
       "      <th>19</th>\n",
       "      <td>2012-01-02</td>\n",
       "      <td>751</td>\n",
       "      <td>34047</td>\n",
       "      <td>1</td>\n",
       "      <td>53.43</td>\n",
       "      <td>0.00</td>\n",
       "      <td>0.0</td>\n",
       "      <td>56</td>\n",
       "      <td>Local</td>\n",
       "      <td>Grocery</td>\n",
       "    </tr>\n",
       "    <tr>\n",
       "      <th>20</th>\n",
       "      <td>2012-01-02</td>\n",
       "      <td>751</td>\n",
       "      <td>34139</td>\n",
       "      <td>1</td>\n",
       "      <td>35.62</td>\n",
       "      <td>-10.33</td>\n",
       "      <td>0.0</td>\n",
       "      <td>89</td>\n",
       "      <td>Established</td>\n",
       "      <td>Grocery</td>\n",
       "    </tr>\n",
       "    <tr>\n",
       "      <th>21</th>\n",
       "      <td>2012-01-02</td>\n",
       "      <td>751</td>\n",
       "      <td>45502</td>\n",
       "      <td>1</td>\n",
       "      <td>82.99</td>\n",
       "      <td>-80.50</td>\n",
       "      <td>0.0</td>\n",
       "      <td>1088</td>\n",
       "      <td>Established</td>\n",
       "      <td>Grocery</td>\n",
       "    </tr>\n",
       "    <tr>\n",
       "      <th>22</th>\n",
       "      <td>2012-01-02</td>\n",
       "      <td>751</td>\n",
       "      <td>46101</td>\n",
       "      <td>1</td>\n",
       "      <td>135.00</td>\n",
       "      <td>-14.25</td>\n",
       "      <td>0.0</td>\n",
       "      <td>5309</td>\n",
       "      <td>Established</td>\n",
       "      <td>Grocery</td>\n",
       "    </tr>\n",
       "    <tr>\n",
       "      <th>23</th>\n",
       "      <td>2012-01-02</td>\n",
       "      <td>751</td>\n",
       "      <td>51615</td>\n",
       "      <td>1</td>\n",
       "      <td>142.12</td>\n",
       "      <td>-35.62</td>\n",
       "      <td>0.0</td>\n",
       "      <td>2074</td>\n",
       "      <td>Established</td>\n",
       "      <td>Grocery</td>\n",
       "    </tr>\n",
       "    <tr>\n",
       "      <th>24</th>\n",
       "      <td>2012-01-02</td>\n",
       "      <td>679</td>\n",
       "      <td>4408</td>\n",
       "      <td>1</td>\n",
       "      <td>63.76</td>\n",
       "      <td>0.00</td>\n",
       "      <td>0.0</td>\n",
       "      <td>1196</td>\n",
       "      <td>Established</td>\n",
       "      <td>Pharmaceutical</td>\n",
       "    </tr>\n",
       "    <tr>\n",
       "      <th>25</th>\n",
       "      <td>2012-01-02</td>\n",
       "      <td>679</td>\n",
       "      <td>5454</td>\n",
       "      <td>1</td>\n",
       "      <td>53.07</td>\n",
       "      <td>-17.81</td>\n",
       "      <td>0.0</td>\n",
       "      <td>1193</td>\n",
       "      <td>Established</td>\n",
       "      <td>Grocery</td>\n",
       "    </tr>\n",
       "    <tr>\n",
       "      <th>26</th>\n",
       "      <td>2012-01-02</td>\n",
       "      <td>679</td>\n",
       "      <td>5797</td>\n",
       "      <td>1</td>\n",
       "      <td>99.38</td>\n",
       "      <td>-7.12</td>\n",
       "      <td>0.0</td>\n",
       "      <td>56</td>\n",
       "      <td>Local</td>\n",
       "      <td>Seafood</td>\n",
       "    </tr>\n",
       "    <tr>\n",
       "      <th>27</th>\n",
       "      <td>2012-01-02</td>\n",
       "      <td>679</td>\n",
       "      <td>5865</td>\n",
       "      <td>1</td>\n",
       "      <td>78.36</td>\n",
       "      <td>-15.67</td>\n",
       "      <td>0.0</td>\n",
       "      <td>3138</td>\n",
       "      <td>Established</td>\n",
       "      <td>Prepared Food</td>\n",
       "    </tr>\n",
       "    <tr>\n",
       "      <th>28</th>\n",
       "      <td>2012-01-02</td>\n",
       "      <td>679</td>\n",
       "      <td>7200</td>\n",
       "      <td>1</td>\n",
       "      <td>63.76</td>\n",
       "      <td>0.00</td>\n",
       "      <td>0.0</td>\n",
       "      <td>823</td>\n",
       "      <td>Established</td>\n",
       "      <td>Grocery</td>\n",
       "    </tr>\n",
       "    <tr>\n",
       "      <th>29</th>\n",
       "      <td>2012-01-02</td>\n",
       "      <td>679</td>\n",
       "      <td>9198</td>\n",
       "      <td>1</td>\n",
       "      <td>152.81</td>\n",
       "      <td>0.00</td>\n",
       "      <td>0.0</td>\n",
       "      <td>984</td>\n",
       "      <td>Established</td>\n",
       "      <td>Packaged Meat</td>\n",
       "    </tr>\n",
       "    <tr>\n",
       "      <th>...</th>\n",
       "      <td>...</td>\n",
       "      <td>...</td>\n",
       "      <td>...</td>\n",
       "      <td>...</td>\n",
       "      <td>...</td>\n",
       "      <td>...</td>\n",
       "      <td>...</td>\n",
       "      <td>...</td>\n",
       "      <td>...</td>\n",
       "      <td>...</td>\n",
       "    </tr>\n",
       "    <tr>\n",
       "      <th>1324536</th>\n",
       "      <td>2013-07-03</td>\n",
       "      <td>386</td>\n",
       "      <td>22995</td>\n",
       "      <td>1</td>\n",
       "      <td>113.63</td>\n",
       "      <td>0.00</td>\n",
       "      <td>0.0</td>\n",
       "      <td>487</td>\n",
       "      <td>Established</td>\n",
       "      <td>Grocery</td>\n",
       "    </tr>\n",
       "    <tr>\n",
       "      <th>1324537</th>\n",
       "      <td>2013-07-03</td>\n",
       "      <td>386</td>\n",
       "      <td>30976</td>\n",
       "      <td>1</td>\n",
       "      <td>89.05</td>\n",
       "      <td>-19.95</td>\n",
       "      <td>0.0</td>\n",
       "      <td>56</td>\n",
       "      <td>Local</td>\n",
       "      <td>Grocery</td>\n",
       "    </tr>\n",
       "    <tr>\n",
       "      <th>1324538</th>\n",
       "      <td>2013-07-03</td>\n",
       "      <td>386</td>\n",
       "      <td>32991</td>\n",
       "      <td>1</td>\n",
       "      <td>42.39</td>\n",
       "      <td>-23.87</td>\n",
       "      <td>0.0</td>\n",
       "      <td>56</td>\n",
       "      <td>Local</td>\n",
       "      <td>Grocery</td>\n",
       "    </tr>\n",
       "    <tr>\n",
       "      <th>1324539</th>\n",
       "      <td>2013-07-03</td>\n",
       "      <td>386</td>\n",
       "      <td>45331</td>\n",
       "      <td>1</td>\n",
       "      <td>142.48</td>\n",
       "      <td>-24.58</td>\n",
       "      <td>0.0</td>\n",
       "      <td>1088</td>\n",
       "      <td>Established</td>\n",
       "      <td>Grocery</td>\n",
       "    </tr>\n",
       "    <tr>\n",
       "      <th>1324540</th>\n",
       "      <td>2013-07-03</td>\n",
       "      <td>386</td>\n",
       "      <td>48863</td>\n",
       "      <td>1</td>\n",
       "      <td>124.31</td>\n",
       "      <td>0.00</td>\n",
       "      <td>0.0</td>\n",
       "      <td>487</td>\n",
       "      <td>Established</td>\n",
       "      <td>Grocery</td>\n",
       "    </tr>\n",
       "    <tr>\n",
       "      <th>1324541</th>\n",
       "      <td>2013-07-03</td>\n",
       "      <td>386</td>\n",
       "      <td>55023</td>\n",
       "      <td>1</td>\n",
       "      <td>142.12</td>\n",
       "      <td>-17.81</td>\n",
       "      <td>0.0</td>\n",
       "      <td>1367</td>\n",
       "      <td>Established</td>\n",
       "      <td>Grocery</td>\n",
       "    </tr>\n",
       "    <tr>\n",
       "      <th>1324542</th>\n",
       "      <td>2013-07-03</td>\n",
       "      <td>386</td>\n",
       "      <td>57921</td>\n",
       "      <td>1</td>\n",
       "      <td>71.24</td>\n",
       "      <td>0.00</td>\n",
       "      <td>0.0</td>\n",
       "      <td>487</td>\n",
       "      <td>Established</td>\n",
       "      <td>Grocery</td>\n",
       "    </tr>\n",
       "    <tr>\n",
       "      <th>1324543</th>\n",
       "      <td>2013-07-03</td>\n",
       "      <td>386</td>\n",
       "      <td>65339</td>\n",
       "      <td>1</td>\n",
       "      <td>78.01</td>\n",
       "      <td>0.00</td>\n",
       "      <td>0.0</td>\n",
       "      <td>1620</td>\n",
       "      <td>Established</td>\n",
       "      <td>Grocery</td>\n",
       "    </tr>\n",
       "    <tr>\n",
       "      <th>1324544</th>\n",
       "      <td>2013-07-03</td>\n",
       "      <td>386</td>\n",
       "      <td>70098</td>\n",
       "      <td>1</td>\n",
       "      <td>110.07</td>\n",
       "      <td>0.00</td>\n",
       "      <td>0.0</td>\n",
       "      <td>714</td>\n",
       "      <td>Established</td>\n",
       "      <td>Grocery</td>\n",
       "    </tr>\n",
       "    <tr>\n",
       "      <th>1324545</th>\n",
       "      <td>2013-06-30</td>\n",
       "      <td>1129</td>\n",
       "      <td>59</td>\n",
       "      <td>1</td>\n",
       "      <td>177.74</td>\n",
       "      <td>0.00</td>\n",
       "      <td>0.0</td>\n",
       "      <td>56</td>\n",
       "      <td>Local</td>\n",
       "      <td>Natural Products</td>\n",
       "    </tr>\n",
       "    <tr>\n",
       "      <th>1324546</th>\n",
       "      <td>2013-06-30</td>\n",
       "      <td>1129</td>\n",
       "      <td>206</td>\n",
       "      <td>1</td>\n",
       "      <td>60.20</td>\n",
       "      <td>0.00</td>\n",
       "      <td>0.0</td>\n",
       "      <td>56</td>\n",
       "      <td>Local</td>\n",
       "      <td>Bakery</td>\n",
       "    </tr>\n",
       "    <tr>\n",
       "      <th>1324547</th>\n",
       "      <td>2013-06-30</td>\n",
       "      <td>1129</td>\n",
       "      <td>281</td>\n",
       "      <td>1</td>\n",
       "      <td>85.13</td>\n",
       "      <td>0.00</td>\n",
       "      <td>0.0</td>\n",
       "      <td>56</td>\n",
       "      <td>Local</td>\n",
       "      <td>Grocery</td>\n",
       "    </tr>\n",
       "    <tr>\n",
       "      <th>1324548</th>\n",
       "      <td>2013-06-30</td>\n",
       "      <td>1129</td>\n",
       "      <td>406</td>\n",
       "      <td>1</td>\n",
       "      <td>14.25</td>\n",
       "      <td>-3.56</td>\n",
       "      <td>0.0</td>\n",
       "      <td>56</td>\n",
       "      <td>Local</td>\n",
       "      <td>Grocery</td>\n",
       "    </tr>\n",
       "    <tr>\n",
       "      <th>1324549</th>\n",
       "      <td>2013-06-30</td>\n",
       "      <td>1129</td>\n",
       "      <td>430</td>\n",
       "      <td>1</td>\n",
       "      <td>70.88</td>\n",
       "      <td>-27.07</td>\n",
       "      <td>0.0</td>\n",
       "      <td>56</td>\n",
       "      <td>Local</td>\n",
       "      <td>Grocery</td>\n",
       "    </tr>\n",
       "    <tr>\n",
       "      <th>1324550</th>\n",
       "      <td>2013-06-30</td>\n",
       "      <td>1129</td>\n",
       "      <td>460</td>\n",
       "      <td>2</td>\n",
       "      <td>28.50</td>\n",
       "      <td>-7.12</td>\n",
       "      <td>0.0</td>\n",
       "      <td>56</td>\n",
       "      <td>Local</td>\n",
       "      <td>Grocery</td>\n",
       "    </tr>\n",
       "    <tr>\n",
       "      <th>1324551</th>\n",
       "      <td>2013-06-30</td>\n",
       "      <td>1129</td>\n",
       "      <td>617</td>\n",
       "      <td>2</td>\n",
       "      <td>28.50</td>\n",
       "      <td>-7.12</td>\n",
       "      <td>0.0</td>\n",
       "      <td>56</td>\n",
       "      <td>Local</td>\n",
       "      <td>Grocery</td>\n",
       "    </tr>\n",
       "    <tr>\n",
       "      <th>1324552</th>\n",
       "      <td>2013-06-30</td>\n",
       "      <td>1129</td>\n",
       "      <td>769</td>\n",
       "      <td>1</td>\n",
       "      <td>184.87</td>\n",
       "      <td>-10.69</td>\n",
       "      <td>0.0</td>\n",
       "      <td>56</td>\n",
       "      <td>Local</td>\n",
       "      <td>Grocery</td>\n",
       "    </tr>\n",
       "    <tr>\n",
       "      <th>1324553</th>\n",
       "      <td>2013-06-30</td>\n",
       "      <td>1129</td>\n",
       "      <td>861</td>\n",
       "      <td>1</td>\n",
       "      <td>74.45</td>\n",
       "      <td>0.00</td>\n",
       "      <td>0.0</td>\n",
       "      <td>823</td>\n",
       "      <td>Established</td>\n",
       "      <td>Grocery</td>\n",
       "    </tr>\n",
       "    <tr>\n",
       "      <th>1324554</th>\n",
       "      <td>2013-06-30</td>\n",
       "      <td>1129</td>\n",
       "      <td>936</td>\n",
       "      <td>1</td>\n",
       "      <td>45.95</td>\n",
       "      <td>-4.63</td>\n",
       "      <td>0.0</td>\n",
       "      <td>56</td>\n",
       "      <td>Local</td>\n",
       "      <td>Grocery</td>\n",
       "    </tr>\n",
       "    <tr>\n",
       "      <th>1324555</th>\n",
       "      <td>2013-06-30</td>\n",
       "      <td>1129</td>\n",
       "      <td>1531</td>\n",
       "      <td>1</td>\n",
       "      <td>106.86</td>\n",
       "      <td>-12.47</td>\n",
       "      <td>0.0</td>\n",
       "      <td>1124</td>\n",
       "      <td>Established</td>\n",
       "      <td>Grocery</td>\n",
       "    </tr>\n",
       "    <tr>\n",
       "      <th>1324556</th>\n",
       "      <td>2013-06-30</td>\n",
       "      <td>1129</td>\n",
       "      <td>1536</td>\n",
       "      <td>2</td>\n",
       "      <td>178.10</td>\n",
       "      <td>-106.15</td>\n",
       "      <td>0.0</td>\n",
       "      <td>984</td>\n",
       "      <td>Established</td>\n",
       "      <td>Packaged Meat</td>\n",
       "    </tr>\n",
       "    <tr>\n",
       "      <th>1324557</th>\n",
       "      <td>2013-06-30</td>\n",
       "      <td>1129</td>\n",
       "      <td>1736</td>\n",
       "      <td>1</td>\n",
       "      <td>95.82</td>\n",
       "      <td>0.00</td>\n",
       "      <td>0.0</td>\n",
       "      <td>522</td>\n",
       "      <td>Established</td>\n",
       "      <td>Grocery</td>\n",
       "    </tr>\n",
       "    <tr>\n",
       "      <th>1324558</th>\n",
       "      <td>2013-06-30</td>\n",
       "      <td>1129</td>\n",
       "      <td>2135</td>\n",
       "      <td>1</td>\n",
       "      <td>35.62</td>\n",
       "      <td>-48.09</td>\n",
       "      <td>0.0</td>\n",
       "      <td>522</td>\n",
       "      <td>Established</td>\n",
       "      <td>Grocery</td>\n",
       "    </tr>\n",
       "    <tr>\n",
       "      <th>1324559</th>\n",
       "      <td>2013-06-30</td>\n",
       "      <td>1129</td>\n",
       "      <td>2142</td>\n",
       "      <td>1</td>\n",
       "      <td>146.04</td>\n",
       "      <td>-117.90</td>\n",
       "      <td>0.0</td>\n",
       "      <td>3781</td>\n",
       "      <td>Established</td>\n",
       "      <td>Meat</td>\n",
       "    </tr>\n",
       "    <tr>\n",
       "      <th>1324560</th>\n",
       "      <td>2013-06-30</td>\n",
       "      <td>1129</td>\n",
       "      <td>2423</td>\n",
       "      <td>1</td>\n",
       "      <td>81.57</td>\n",
       "      <td>-7.12</td>\n",
       "      <td>0.0</td>\n",
       "      <td>56</td>\n",
       "      <td>Local</td>\n",
       "      <td>Grocery</td>\n",
       "    </tr>\n",
       "    <tr>\n",
       "      <th>1324561</th>\n",
       "      <td>2013-06-30</td>\n",
       "      <td>1129</td>\n",
       "      <td>2777</td>\n",
       "      <td>1</td>\n",
       "      <td>284.60</td>\n",
       "      <td>-71.24</td>\n",
       "      <td>0.0</td>\n",
       "      <td>2074</td>\n",
       "      <td>Established</td>\n",
       "      <td>Grocery</td>\n",
       "    </tr>\n",
       "    <tr>\n",
       "      <th>1324562</th>\n",
       "      <td>2013-06-30</td>\n",
       "      <td>1129</td>\n",
       "      <td>2953</td>\n",
       "      <td>4</td>\n",
       "      <td>42.74</td>\n",
       "      <td>-28.50</td>\n",
       "      <td>0.0</td>\n",
       "      <td>56</td>\n",
       "      <td>Local</td>\n",
       "      <td>Grocery</td>\n",
       "    </tr>\n",
       "    <tr>\n",
       "      <th>1324563</th>\n",
       "      <td>2013-06-30</td>\n",
       "      <td>1129</td>\n",
       "      <td>2971</td>\n",
       "      <td>6</td>\n",
       "      <td>64.12</td>\n",
       "      <td>-42.74</td>\n",
       "      <td>0.0</td>\n",
       "      <td>56</td>\n",
       "      <td>Local</td>\n",
       "      <td>Grocery</td>\n",
       "    </tr>\n",
       "    <tr>\n",
       "      <th>1324564</th>\n",
       "      <td>2013-06-30</td>\n",
       "      <td>1129</td>\n",
       "      <td>46984</td>\n",
       "      <td>1</td>\n",
       "      <td>95.82</td>\n",
       "      <td>0.00</td>\n",
       "      <td>0.0</td>\n",
       "      <td>56</td>\n",
       "      <td>Local</td>\n",
       "      <td>Grocery</td>\n",
       "    </tr>\n",
       "    <tr>\n",
       "      <th>1324565</th>\n",
       "      <td>2013-06-30</td>\n",
       "      <td>1129</td>\n",
       "      <td>64498</td>\n",
       "      <td>2</td>\n",
       "      <td>489.78</td>\n",
       "      <td>0.00</td>\n",
       "      <td>0.0</td>\n",
       "      <td>3514</td>\n",
       "      <td>Established</td>\n",
       "      <td>Meat</td>\n",
       "    </tr>\n",
       "  </tbody>\n",
       "</table>\n",
       "<p>1324566 rows × 10 columns</p>\n",
       "</div>"
      ],
      "text/plain": [
       "               date  customer_id  item_id  quantity  selling_price  \\\n",
       "0        2012-01-02         1501    26830         1          35.26   \n",
       "1        2012-01-02         1501    54253         1          53.43   \n",
       "2        2012-01-02         1501    31962         1         106.50   \n",
       "3        2012-01-02         1501    33647         1          67.32   \n",
       "4        2012-01-02         1501    48199         1          71.24   \n",
       "5        2012-01-02         1501    57397         1          71.24   \n",
       "6        2012-01-02          857    12424         1         106.50   \n",
       "7        2012-01-02          857    14930         1         110.07   \n",
       "8        2012-01-02          857    16657         1          89.05   \n",
       "9        2012-01-02           67    10537         3          32.06   \n",
       "10       2012-01-02           67    19560         2         106.86   \n",
       "11       2012-01-02           67    21653         1          44.52   \n",
       "12       2012-01-02           67    32083         1           8.90   \n",
       "13       2012-01-02          751    10423         1          81.57   \n",
       "14       2012-01-02          751    10565         1          71.24   \n",
       "15       2012-01-02          751    17035         1         127.88   \n",
       "16       2012-01-02          751    27801         2          71.24   \n",
       "17       2012-01-02          751    30645         1         127.88   \n",
       "18       2012-01-02          751    30832         1         213.36   \n",
       "19       2012-01-02          751    34047         1          53.43   \n",
       "20       2012-01-02          751    34139         1          35.62   \n",
       "21       2012-01-02          751    45502         1          82.99   \n",
       "22       2012-01-02          751    46101         1         135.00   \n",
       "23       2012-01-02          751    51615         1         142.12   \n",
       "24       2012-01-02          679     4408         1          63.76   \n",
       "25       2012-01-02          679     5454         1          53.07   \n",
       "26       2012-01-02          679     5797         1          99.38   \n",
       "27       2012-01-02          679     5865         1          78.36   \n",
       "28       2012-01-02          679     7200         1          63.76   \n",
       "29       2012-01-02          679     9198         1         152.81   \n",
       "...             ...          ...      ...       ...            ...   \n",
       "1324536  2013-07-03          386    22995         1         113.63   \n",
       "1324537  2013-07-03          386    30976         1          89.05   \n",
       "1324538  2013-07-03          386    32991         1          42.39   \n",
       "1324539  2013-07-03          386    45331         1         142.48   \n",
       "1324540  2013-07-03          386    48863         1         124.31   \n",
       "1324541  2013-07-03          386    55023         1         142.12   \n",
       "1324542  2013-07-03          386    57921         1          71.24   \n",
       "1324543  2013-07-03          386    65339         1          78.01   \n",
       "1324544  2013-07-03          386    70098         1         110.07   \n",
       "1324545  2013-06-30         1129       59         1         177.74   \n",
       "1324546  2013-06-30         1129      206         1          60.20   \n",
       "1324547  2013-06-30         1129      281         1          85.13   \n",
       "1324548  2013-06-30         1129      406         1          14.25   \n",
       "1324549  2013-06-30         1129      430         1          70.88   \n",
       "1324550  2013-06-30         1129      460         2          28.50   \n",
       "1324551  2013-06-30         1129      617         2          28.50   \n",
       "1324552  2013-06-30         1129      769         1         184.87   \n",
       "1324553  2013-06-30         1129      861         1          74.45   \n",
       "1324554  2013-06-30         1129      936         1          45.95   \n",
       "1324555  2013-06-30         1129     1531         1         106.86   \n",
       "1324556  2013-06-30         1129     1536         2         178.10   \n",
       "1324557  2013-06-30         1129     1736         1          95.82   \n",
       "1324558  2013-06-30         1129     2135         1          35.62   \n",
       "1324559  2013-06-30         1129     2142         1         146.04   \n",
       "1324560  2013-06-30         1129     2423         1          81.57   \n",
       "1324561  2013-06-30         1129     2777         1         284.60   \n",
       "1324562  2013-06-30         1129     2953         4          42.74   \n",
       "1324563  2013-06-30         1129     2971         6          64.12   \n",
       "1324564  2013-06-30         1129    46984         1          95.82   \n",
       "1324565  2013-06-30         1129    64498         2         489.78   \n",
       "\n",
       "         other_discount  coupon_discount  brand   brand_type          category  \n",
       "0                -10.69              0.0     56        Local  Natural Products  \n",
       "1                -13.89              0.0     56        Local  Natural Products  \n",
       "2                -14.25              0.0    524  Established           Grocery  \n",
       "3                  0.00              0.0   1134  Established           Grocery  \n",
       "4                -28.14              0.0    524  Established           Grocery  \n",
       "5                -28.14              0.0    524  Established           Grocery  \n",
       "6                -14.25              0.0    971  Established           Grocery  \n",
       "7                  0.00              0.0   3235  Established              Meat  \n",
       "8                -35.26              0.0   2011  Established     Packaged Meat  \n",
       "9                  0.00              0.0    487  Established           Grocery  \n",
       "10                -2.85              0.0     56        Local           Grocery  \n",
       "11               -12.11              0.0     56        Local           Grocery  \n",
       "12                 0.00              0.0    487  Established           Grocery  \n",
       "13                 0.00              0.0   2088  Established    Pharmaceutical  \n",
       "14               -35.26              0.0   1162  Established    Pharmaceutical  \n",
       "15                 0.00              0.0   2088  Established    Pharmaceutical  \n",
       "16               -27.78              0.0   1235  Established           Grocery  \n",
       "17                 0.00              0.0   2088  Established    Pharmaceutical  \n",
       "18              -106.86              0.0    673  Established           Grocery  \n",
       "19                 0.00              0.0     56        Local           Grocery  \n",
       "20               -10.33              0.0     89  Established           Grocery  \n",
       "21               -80.50              0.0   1088  Established           Grocery  \n",
       "22               -14.25              0.0   5309  Established           Grocery  \n",
       "23               -35.62              0.0   2074  Established           Grocery  \n",
       "24                 0.00              0.0   1196  Established    Pharmaceutical  \n",
       "25               -17.81              0.0   1193  Established           Grocery  \n",
       "26                -7.12              0.0     56        Local           Seafood  \n",
       "27               -15.67              0.0   3138  Established     Prepared Food  \n",
       "28                 0.00              0.0    823  Established           Grocery  \n",
       "29                 0.00              0.0    984  Established     Packaged Meat  \n",
       "...                 ...              ...    ...          ...               ...  \n",
       "1324536            0.00              0.0    487  Established           Grocery  \n",
       "1324537          -19.95              0.0     56        Local           Grocery  \n",
       "1324538          -23.87              0.0     56        Local           Grocery  \n",
       "1324539          -24.58              0.0   1088  Established           Grocery  \n",
       "1324540            0.00              0.0    487  Established           Grocery  \n",
       "1324541          -17.81              0.0   1367  Established           Grocery  \n",
       "1324542            0.00              0.0    487  Established           Grocery  \n",
       "1324543            0.00              0.0   1620  Established           Grocery  \n",
       "1324544            0.00              0.0    714  Established           Grocery  \n",
       "1324545            0.00              0.0     56        Local  Natural Products  \n",
       "1324546            0.00              0.0     56        Local            Bakery  \n",
       "1324547            0.00              0.0     56        Local           Grocery  \n",
       "1324548           -3.56              0.0     56        Local           Grocery  \n",
       "1324549          -27.07              0.0     56        Local           Grocery  \n",
       "1324550           -7.12              0.0     56        Local           Grocery  \n",
       "1324551           -7.12              0.0     56        Local           Grocery  \n",
       "1324552          -10.69              0.0     56        Local           Grocery  \n",
       "1324553            0.00              0.0    823  Established           Grocery  \n",
       "1324554           -4.63              0.0     56        Local           Grocery  \n",
       "1324555          -12.47              0.0   1124  Established           Grocery  \n",
       "1324556         -106.15              0.0    984  Established     Packaged Meat  \n",
       "1324557            0.00              0.0    522  Established           Grocery  \n",
       "1324558          -48.09              0.0    522  Established           Grocery  \n",
       "1324559         -117.90              0.0   3781  Established              Meat  \n",
       "1324560           -7.12              0.0     56        Local           Grocery  \n",
       "1324561          -71.24              0.0   2074  Established           Grocery  \n",
       "1324562          -28.50              0.0     56        Local           Grocery  \n",
       "1324563          -42.74              0.0     56        Local           Grocery  \n",
       "1324564            0.00              0.0     56        Local           Grocery  \n",
       "1324565            0.00              0.0   3514  Established              Meat  \n",
       "\n",
       "[1324566 rows x 10 columns]"
      ]
     },
     "execution_count": 233,
     "metadata": {},
     "output_type": "execute_result"
    }
   ],
   "source": [
    "cust_item"
   ]
  },
  {
   "cell_type": "code",
   "execution_count": 234,
   "metadata": {},
   "outputs": [],
   "source": [
    "cust_features=cust_item['customer_id'].value_counts().reset_index()\n",
    "cust_features.columns=['customer_id','cust_occurence_count']"
   ]
  },
  {
   "cell_type": "code",
   "execution_count": 235,
   "metadata": {},
   "outputs": [],
   "source": [
    "temp=cust_item.groupby(['customer_id'])['item_id'].nunique().reset_index()\n",
    "cust_features=pd.merge(cust_features,temp,on='customer_id',how='left')\n",
    "del temp\n",
    "cust_features.rename(columns={'item_id':'cust_unique_items_count'},inplace=True)"
   ]
  },
  {
   "cell_type": "code",
   "execution_count": 236,
   "metadata": {},
   "outputs": [
    {
     "data": {
      "text/plain": [
       "date                 549\n",
       "customer_id         1582\n",
       "item_id            74063\n",
       "quantity            9252\n",
       "selling_price       4923\n",
       "other_discount      1418\n",
       "coupon_discount      232\n",
       "brand               5528\n",
       "brand_type             2\n",
       "category              19\n",
       "dtype: int64"
      ]
     },
     "execution_count": 236,
     "metadata": {},
     "output_type": "execute_result"
    }
   ],
   "source": [
    "cust_item.nunique()"
   ]
  },
  {
   "cell_type": "code",
   "execution_count": 237,
   "metadata": {},
   "outputs": [],
   "source": [
    "temp=pd.crosstab(cust_item['customer_id'],cust_item['category'])\n",
    "temp.columns=[x+'_cust_cat_count' for x in list(temp.columns)]\n",
    "temp.reset_index(inplace=True)\n",
    "cust_features=pd.merge(cust_features,temp,on='customer_id',how='left')\n",
    "del temp\n"
   ]
  },
  {
   "cell_type": "code",
   "execution_count": 238,
   "metadata": {},
   "outputs": [],
   "source": [
    "temp=cust_item.groupby(['customer_id'])['category'].nunique().reset_index()\n",
    "cust_features=pd.merge(cust_features,temp,on='customer_id',how='left')\n",
    "del temp\n",
    "cust_features.rename(columns={'category':'cust_unique_category_count'},inplace=True)"
   ]
  },
  {
   "cell_type": "code",
   "execution_count": 239,
   "metadata": {},
   "outputs": [],
   "source": [
    "temp=pd.crosstab(cust_item['customer_id'],cust_item['brand_type'])\n",
    "temp.columns=[x+'_cust_brand_count' for x in list(temp.columns)]\n",
    "temp.reset_index(inplace=True)\n",
    "cust_features=pd.merge(cust_features,temp,on='customer_id',how='left')\n",
    "del temp\n"
   ]
  },
  {
   "cell_type": "code",
   "execution_count": 240,
   "metadata": {},
   "outputs": [],
   "source": [
    "temp=cust_item.groupby(['customer_id'])['brand_type'].nunique().reset_index()\n",
    "cust_features=pd.merge(cust_features,temp,on='customer_id',how='left')\n",
    "del temp\n",
    "cust_features.rename(columns={'brand_type':'cust_unique_brand_type_count'},inplace=True)"
   ]
  },
  {
   "cell_type": "code",
   "execution_count": null,
   "metadata": {},
   "outputs": [],
   "source": []
  },
  {
   "cell_type": "code",
   "execution_count": 241,
   "metadata": {},
   "outputs": [],
   "source": [
    "temp=cust_item.groupby(['customer_id'])['coupon_discount'].describe()\n",
    "temp.columns=[x+'_coupon_discount' for x in list(temp.columns)]\n",
    "temp.reset_index(inplace=True)\n",
    "cust_features=pd.merge(cust_features,temp,on='customer_id',how='left')\n",
    "\n",
    "del temp"
   ]
  },
  {
   "cell_type": "code",
   "execution_count": 242,
   "metadata": {},
   "outputs": [],
   "source": [
    "temp=cust_item.groupby(['customer_id'])['coupon_discount'].nunique().reset_index()\n",
    "cust_features=pd.merge(cust_features,temp,on='customer_id',how='left')\n",
    "del temp\n",
    "cust_features.rename(columns={'coupon_discount':'cust_unique_coupon_discount_count'},inplace=True)"
   ]
  },
  {
   "cell_type": "code",
   "execution_count": 243,
   "metadata": {},
   "outputs": [],
   "source": [
    "temp=cust_item.groupby(['customer_id'])['other_discount'].describe()\n",
    "temp.columns=[x+'_other_discount' for x in list(temp.columns)]\n",
    "temp.reset_index(inplace=True)\n",
    "cust_features=pd.merge(cust_features,temp,on='customer_id',how='left')\n",
    "del temp"
   ]
  },
  {
   "cell_type": "code",
   "execution_count": 244,
   "metadata": {},
   "outputs": [],
   "source": [
    "temp=cust_item.groupby(['customer_id'])['other_discount'].nunique().reset_index()\n",
    "cust_features=pd.merge(cust_features,temp,on='customer_id',how='left')\n",
    "del temp\n",
    "cust_features.rename(columns={'other_discount':'cust_unique_other_discount_count'},inplace=True)"
   ]
  },
  {
   "cell_type": "code",
   "execution_count": 245,
   "metadata": {},
   "outputs": [],
   "source": [
    "temp=cust_item.groupby(['customer_id'])['selling_price'].describe()\n",
    "temp.columns=[x+'_selling_price' for x in list(temp.columns)]\n",
    "temp.reset_index(inplace=True)\n",
    "cust_features=pd.merge(cust_features,temp,on='customer_id',how='left')\n",
    "del temp"
   ]
  },
  {
   "cell_type": "code",
   "execution_count": 246,
   "metadata": {},
   "outputs": [],
   "source": [
    "temp=cust_item.groupby(['customer_id'])['selling_price'].nunique().reset_index()\n",
    "cust_features=pd.merge(cust_features,temp,on='customer_id',how='left')\n",
    "del temp\n",
    "cust_features.rename(columns={'selling_price':'cust_unique_selling_price_count'},inplace=True)"
   ]
  },
  {
   "cell_type": "code",
   "execution_count": 247,
   "metadata": {},
   "outputs": [],
   "source": [
    "temp=cust_item.groupby(['customer_id'])['quantity'].describe()\n",
    "temp.columns=[x+'_quantity' for x in list(temp.columns)]\n",
    "temp.reset_index(inplace=True)\n",
    "cust_features=pd.merge(cust_features,temp,on='customer_id',how='left')\n",
    "del temp"
   ]
  },
  {
   "cell_type": "code",
   "execution_count": 248,
   "metadata": {},
   "outputs": [],
   "source": [
    "temp=cust_item.groupby(['customer_id'])['quantity'].nunique().reset_index()\n",
    "cust_features=pd.merge(cust_features,temp,on='customer_id',how='left')\n",
    "del temp\n",
    "cust_features.rename(columns={'quantity':'cust_unique_quantity_count'},inplace=True)"
   ]
  },
  {
   "cell_type": "code",
   "execution_count": 249,
   "metadata": {},
   "outputs": [
    {
     "name": "stderr",
     "output_type": "stream",
     "text": [
      "C:\\Users\\deepak kumar\\Anaconda3\\lib\\site-packages\\ipykernel_launcher.py:3: SettingWithCopyWarning: \n",
      "A value is trying to be set on a copy of a slice from a DataFrame.\n",
      "Try using .loc[row_indexer,col_indexer] = value instead\n",
      "\n",
      "See the caveats in the documentation: http://pandas.pydata.org/pandas-docs/stable/indexing.html#indexing-view-versus-copy\n",
      "  This is separate from the ipykernel package so we can avoid doing imports until\n",
      "C:\\Users\\deepak kumar\\Anaconda3\\lib\\site-packages\\ipykernel_launcher.py:5: SettingWithCopyWarning: \n",
      "A value is trying to be set on a copy of a slice from a DataFrame\n",
      "\n",
      "See the caveats in the documentation: http://pandas.pydata.org/pandas-docs/stable/indexing.html#indexing-view-versus-copy\n",
      "  \"\"\"\n",
      "C:\\Users\\deepak kumar\\Anaconda3\\lib\\site-packages\\ipykernel_launcher.py:9: SettingWithCopyWarning: \n",
      "A value is trying to be set on a copy of a slice from a DataFrame.\n",
      "Try using .loc[row_indexer,col_indexer] = value instead\n",
      "\n",
      "See the caveats in the documentation: http://pandas.pydata.org/pandas-docs/stable/indexing.html#indexing-view-versus-copy\n",
      "  if __name__ == '__main__':\n",
      "C:\\Users\\deepak kumar\\Anaconda3\\lib\\site-packages\\ipykernel_launcher.py:11: SettingWithCopyWarning: \n",
      "A value is trying to be set on a copy of a slice from a DataFrame\n",
      "\n",
      "See the caveats in the documentation: http://pandas.pydata.org/pandas-docs/stable/indexing.html#indexing-view-versus-copy\n",
      "  # This is added back by InteractiveShellApp.init_path()\n",
      "C:\\Users\\deepak kumar\\Anaconda3\\lib\\site-packages\\ipykernel_launcher.py:13: SettingWithCopyWarning: \n",
      "A value is trying to be set on a copy of a slice from a DataFrame.\n",
      "Try using .loc[row_indexer,col_indexer] = value instead\n",
      "\n",
      "See the caveats in the documentation: http://pandas.pydata.org/pandas-docs/stable/indexing.html#indexing-view-versus-copy\n",
      "  del sys.path[0]\n"
     ]
    }
   ],
   "source": [
    "cust_item_sub=cust_item[['customer_id','date']]\n",
    "\n",
    "cust_item_sub['date']=pd.to_datetime(cust_item_sub['date'])\n",
    "\n",
    "cust_item_sub.sort_values(['customer_id','date'],inplace=True)\n",
    "\n",
    "temp=cust_item_sub.drop_duplicates()\n",
    "\n",
    "temp['lag_date']=temp.groupby('customer_id')['date'].shift()\n",
    "\n",
    "temp.dropna(inplace=True)\n",
    "\n",
    "temp['diff']=(temp['date']-temp['lag_date']).dt.days\n",
    "\n",
    "temp1=temp.groupby('customer_id')['diff'].mean().reset_index()\n",
    "\n",
    "cust_features=pd.merge(cust_features,temp1,on='customer_id',how='left')\n",
    "del temp\n",
    "cust_features.rename(columns={'date':'cust_unique_date_count'},inplace=True)\n"
   ]
  },
  {
   "cell_type": "code",
   "execution_count": null,
   "metadata": {},
   "outputs": [],
   "source": [
    "# (pd.to_datetime('today')-cust_item_sub.groupby('customer_id')['date'].nth(0)).dt.days\n",
    "# (pd.to_datetime('today')-cust_item_sub.groupby('customer_id')['date'].nth(-1)).dt.days"
   ]
  },
  {
   "cell_type": "code",
   "execution_count": 250,
   "metadata": {},
   "outputs": [],
   "source": [
    "train_all=pd.merge(train_all,cust_features,on='customer_id',how='left')\n",
    "test_all=pd.merge(test_all,cust_features,on='customer_id',how='left')"
   ]
  },
  {
   "cell_type": "code",
   "execution_count": 251,
   "metadata": {},
   "outputs": [
    {
     "data": {
      "text/plain": [
       "(78369, 102)"
      ]
     },
     "execution_count": 251,
     "metadata": {},
     "output_type": "execute_result"
    }
   ],
   "source": [
    "train_all.shape"
   ]
  },
  {
   "cell_type": "code",
   "execution_count": 252,
   "metadata": {},
   "outputs": [
    {
     "data": {
      "text/plain": [
       "(50226, 101)"
      ]
     },
     "execution_count": 252,
     "metadata": {},
     "output_type": "execute_result"
    }
   ],
   "source": [
    "test_all.shape"
   ]
  },
  {
   "cell_type": "code",
   "execution_count": 253,
   "metadata": {},
   "outputs": [
    {
     "data": {
      "text/plain": [
       "0    77640\n",
       "1      729\n",
       "Name: redemption_status, dtype: int64"
      ]
     },
     "execution_count": 253,
     "metadata": {},
     "output_type": "execute_result"
    }
   ],
   "source": [
    "train_all['redemption_status'].value_counts()"
   ]
  },
  {
   "cell_type": "markdown",
   "metadata": {},
   "source": [
    "# data  preparation part"
   ]
  },
  {
   "cell_type": "code",
   "execution_count": 254,
   "metadata": {},
   "outputs": [],
   "source": [
    "test_all['redemption_status']=np.nan\n",
    "train_all['data']='train'\n",
    "test_all['data']='test'\n",
    "test_all=test_all[train_all.columns]\n",
    "amex_all=pd.concat([train_all,test_all],axis=0)"
   ]
  },
  {
   "cell_type": "code",
   "execution_count": 255,
   "metadata": {},
   "outputs": [],
   "source": [
    "amex_all['campaign_type_X']=np.where(amex_all['campaign_type']=='X',1,0)\n",
    "amex_all['campaign_type_Y']=np.where(amex_all['campaign_type']=='Y',1,0)\n",
    "amex_all.drop('campaign_type',axis=1,inplace=True)\n"
   ]
  },
  {
   "cell_type": "code",
   "execution_count": 256,
   "metadata": {},
   "outputs": [],
   "source": [
    "cat_cols=amex_all.select_dtypes('object').columns"
   ]
  },
  {
   "cell_type": "code",
   "execution_count": 257,
   "metadata": {},
   "outputs": [
    {
     "data": {
      "text/plain": [
       "Index(['age_range', 'marital_status', 'family_size', 'no_of_children', 'data'], dtype='object')"
      ]
     },
     "execution_count": 257,
     "metadata": {},
     "output_type": "execute_result"
    }
   ],
   "source": [
    "cat_cols"
   ]
  },
  {
   "cell_type": "code",
   "execution_count": 258,
   "metadata": {},
   "outputs": [],
   "source": [
    "amex_all['marital_status_married']=np.where(amex_all['marital_status']=='Married',1,0)\n",
    "amex_all['marital_status_single']=np.where(amex_all['marital_status']=='Single',1,0)\n",
    "amex_all.drop('marital_status',axis=1,inplace=True)"
   ]
  },
  {
   "cell_type": "code",
   "execution_count": 259,
   "metadata": {},
   "outputs": [],
   "source": [
    "amex_all['family_size_1']=np.where(amex_all['family_size']=='1',1,0)\n",
    "amex_all['family_size_2']=np.where(amex_all['family_size']=='2',1,0)\n",
    "amex_all['family_size_3']=np.where(amex_all['family_size']=='3',1,0)\n",
    "amex_all['family_size_4']=np.where(amex_all['family_size']=='4',1,0)\n",
    "amex_all['family_size_5']=np.where(amex_all['family_size']=='5+',1,0)\n",
    "amex_all.drop('family_size',axis=1,inplace=True)\n"
   ]
  },
  {
   "cell_type": "code",
   "execution_count": 260,
   "metadata": {},
   "outputs": [],
   "source": [
    "amex_all['no_of_children_1']=np.where(amex_all['no_of_children']=='1',1,0)\n",
    "amex_all['no_of_children_2']=np.where(amex_all['no_of_children']=='2',1,0)\n",
    "amex_all['no_of_children_3']=np.where(amex_all['no_of_children']=='3+',1,0)\n",
    "amex_all.drop('no_of_children',axis=1,inplace=True)\n"
   ]
  },
  {
   "cell_type": "code",
   "execution_count": 261,
   "metadata": {},
   "outputs": [
    {
     "data": {
      "text/plain": [
       "NaN      34708\n",
       "46-55    15154\n",
       "36-45    11210\n",
       "26-35     8024\n",
       "56-70     3723\n",
       "70+       3094\n",
       "18-25     2456\n",
       "Name: age_range, dtype: int64"
      ]
     },
     "execution_count": 261,
     "metadata": {},
     "output_type": "execute_result"
    }
   ],
   "source": [
    "train_all['age_range'].value_counts(dropna=False)"
   ]
  },
  {
   "cell_type": "code",
   "execution_count": 262,
   "metadata": {},
   "outputs": [],
   "source": [
    "t=amex_all['age_range'].str.split('-',expand=True)"
   ]
  },
  {
   "cell_type": "code",
   "execution_count": 263,
   "metadata": {},
   "outputs": [],
   "source": [
    "# t['age']=np.where(t[0]=='70+',70,np.where(t[0].isnull(),np.nan,0.5(t[0].astype(int)+t[1].astype(int))))\n",
    "t[0]=pd.to_numeric(t[0],errors='coerce')\n",
    "t[1]=pd.to_numeric(t[1],errors='coerce')"
   ]
  },
  {
   "cell_type": "code",
   "execution_count": 264,
   "metadata": {},
   "outputs": [],
   "source": [
    "amex_all['age']=np.where(amex_all['age_range']=='70+',70,np.where(t[0].isnull(),np.nan,0.5*(t[0]+t[1])))"
   ]
  },
  {
   "cell_type": "code",
   "execution_count": 265,
   "metadata": {},
   "outputs": [],
   "source": [
    "del amex_all['age_range']"
   ]
  },
  {
   "cell_type": "code",
   "execution_count": 68,
   "metadata": {},
   "outputs": [
    {
     "data": {
      "text/html": [
       "<div>\n",
       "<style scoped>\n",
       "    .dataframe tbody tr th:only-of-type {\n",
       "        vertical-align: middle;\n",
       "    }\n",
       "\n",
       "    .dataframe tbody tr th {\n",
       "        vertical-align: top;\n",
       "    }\n",
       "\n",
       "    .dataframe thead th {\n",
       "        text-align: right;\n",
       "    }\n",
       "</style>\n",
       "<table border=\"1\" class=\"dataframe\">\n",
       "  <thead>\n",
       "    <tr style=\"text-align: right;\">\n",
       "      <th></th>\n",
       "      <th>id</th>\n",
       "      <th>campaign_id</th>\n",
       "      <th>coupon_id</th>\n",
       "      <th>customer_id</th>\n",
       "      <th>redemption_status</th>\n",
       "      <th>duration</th>\n",
       "      <th>start_date_dow</th>\n",
       "      <th>start_date_day</th>\n",
       "      <th>end_date_dow</th>\n",
       "      <th>end_date_day</th>\n",
       "      <th>...</th>\n",
       "      <th>marital_status_single</th>\n",
       "      <th>family_size_1</th>\n",
       "      <th>family_size_2</th>\n",
       "      <th>family_size_3</th>\n",
       "      <th>family_size_4</th>\n",
       "      <th>family_size_5</th>\n",
       "      <th>no_of_children_1</th>\n",
       "      <th>no_of_children_2</th>\n",
       "      <th>no_of_children_3</th>\n",
       "      <th>age</th>\n",
       "    </tr>\n",
       "  </thead>\n",
       "  <tbody>\n",
       "    <tr>\n",
       "      <th>0</th>\n",
       "      <td>1</td>\n",
       "      <td>13</td>\n",
       "      <td>27</td>\n",
       "      <td>1053</td>\n",
       "      <td>0.0</td>\n",
       "      <td>-12</td>\n",
       "      <td>6</td>\n",
       "      <td>139</td>\n",
       "      <td>1</td>\n",
       "      <td>127</td>\n",
       "      <td>...</td>\n",
       "      <td>0</td>\n",
       "      <td>1</td>\n",
       "      <td>0</td>\n",
       "      <td>0</td>\n",
       "      <td>0</td>\n",
       "      <td>0</td>\n",
       "      <td>0</td>\n",
       "      <td>0</td>\n",
       "      <td>0</td>\n",
       "      <td>50.5</td>\n",
       "    </tr>\n",
       "    <tr>\n",
       "      <th>1</th>\n",
       "      <td>2</td>\n",
       "      <td>13</td>\n",
       "      <td>116</td>\n",
       "      <td>48</td>\n",
       "      <td>0.0</td>\n",
       "      <td>-12</td>\n",
       "      <td>6</td>\n",
       "      <td>139</td>\n",
       "      <td>1</td>\n",
       "      <td>127</td>\n",
       "      <td>...</td>\n",
       "      <td>0</td>\n",
       "      <td>0</td>\n",
       "      <td>1</td>\n",
       "      <td>0</td>\n",
       "      <td>0</td>\n",
       "      <td>0</td>\n",
       "      <td>0</td>\n",
       "      <td>0</td>\n",
       "      <td>0</td>\n",
       "      <td>40.5</td>\n",
       "    </tr>\n",
       "    <tr>\n",
       "      <th>2</th>\n",
       "      <td>6</td>\n",
       "      <td>9</td>\n",
       "      <td>635</td>\n",
       "      <td>205</td>\n",
       "      <td>0.0</td>\n",
       "      <td>31</td>\n",
       "      <td>6</td>\n",
       "      <td>307</td>\n",
       "      <td>2</td>\n",
       "      <td>338</td>\n",
       "      <td>...</td>\n",
       "      <td>0</td>\n",
       "      <td>0</td>\n",
       "      <td>1</td>\n",
       "      <td>0</td>\n",
       "      <td>0</td>\n",
       "      <td>0</td>\n",
       "      <td>0</td>\n",
       "      <td>0</td>\n",
       "      <td>0</td>\n",
       "      <td>50.5</td>\n",
       "    </tr>\n",
       "    <tr>\n",
       "      <th>3</th>\n",
       "      <td>7</td>\n",
       "      <td>13</td>\n",
       "      <td>644</td>\n",
       "      <td>1050</td>\n",
       "      <td>0.0</td>\n",
       "      <td>-12</td>\n",
       "      <td>6</td>\n",
       "      <td>139</td>\n",
       "      <td>1</td>\n",
       "      <td>127</td>\n",
       "      <td>...</td>\n",
       "      <td>0</td>\n",
       "      <td>0</td>\n",
       "      <td>0</td>\n",
       "      <td>0</td>\n",
       "      <td>0</td>\n",
       "      <td>0</td>\n",
       "      <td>0</td>\n",
       "      <td>0</td>\n",
       "      <td>0</td>\n",
       "      <td>NaN</td>\n",
       "    </tr>\n",
       "    <tr>\n",
       "      <th>4</th>\n",
       "      <td>9</td>\n",
       "      <td>8</td>\n",
       "      <td>1017</td>\n",
       "      <td>1489</td>\n",
       "      <td>0.0</td>\n",
       "      <td>77</td>\n",
       "      <td>5</td>\n",
       "      <td>47</td>\n",
       "      <td>5</td>\n",
       "      <td>124</td>\n",
       "      <td>...</td>\n",
       "      <td>0</td>\n",
       "      <td>0</td>\n",
       "      <td>1</td>\n",
       "      <td>0</td>\n",
       "      <td>0</td>\n",
       "      <td>0</td>\n",
       "      <td>0</td>\n",
       "      <td>0</td>\n",
       "      <td>0</td>\n",
       "      <td>50.5</td>\n",
       "    </tr>\n",
       "  </tbody>\n",
       "</table>\n",
       "<p>5 rows × 111 columns</p>\n",
       "</div>"
      ],
      "text/plain": [
       "   id  campaign_id  coupon_id  customer_id  redemption_status  duration  \\\n",
       "0   1           13         27         1053                0.0       -12   \n",
       "1   2           13        116           48                0.0       -12   \n",
       "2   6            9        635          205                0.0        31   \n",
       "3   7           13        644         1050                0.0       -12   \n",
       "4   9            8       1017         1489                0.0        77   \n",
       "\n",
       "   start_date_dow  start_date_day  end_date_dow  end_date_day  ...  \\\n",
       "0               6             139             1           127  ...   \n",
       "1               6             139             1           127  ...   \n",
       "2               6             307             2           338  ...   \n",
       "3               6             139             1           127  ...   \n",
       "4               5              47             5           124  ...   \n",
       "\n",
       "   marital_status_single  family_size_1  family_size_2  family_size_3  \\\n",
       "0                      0              1              0              0   \n",
       "1                      0              0              1              0   \n",
       "2                      0              0              1              0   \n",
       "3                      0              0              0              0   \n",
       "4                      0              0              1              0   \n",
       "\n",
       "   family_size_4  family_size_5  no_of_children_1  no_of_children_2  \\\n",
       "0              0              0                 0                 0   \n",
       "1              0              0                 0                 0   \n",
       "2              0              0                 0                 0   \n",
       "3              0              0                 0                 0   \n",
       "4              0              0                 0                 0   \n",
       "\n",
       "   no_of_children_3   age  \n",
       "0                 0  50.5  \n",
       "1                 0  40.5  \n",
       "2                 0  50.5  \n",
       "3                 0   NaN  \n",
       "4                 0  50.5  \n",
       "\n",
       "[5 rows x 111 columns]"
      ]
     },
     "execution_count": 68,
     "metadata": {},
     "output_type": "execute_result"
    }
   ],
   "source": [
    "amex_all.head()"
   ]
  },
  {
   "cell_type": "markdown",
   "metadata": {},
   "source": [
    "# Model building part"
   ]
  },
  {
   "cell_type": "code",
   "execution_count": 266,
   "metadata": {},
   "outputs": [],
   "source": [
    "from sklearn.metrics import roc_auc_score\n",
    "from sklearn.model_selection import RandomizedSearchCV\n",
    "from sklearn.ensemble import RandomForestClassifier\n",
    "from sklearn.model_selection import train_test_split"
   ]
  },
  {
   "cell_type": "code",
   "execution_count": 268,
   "metadata": {},
   "outputs": [],
   "source": [
    "amex_all.drop(['campaign_id','coupon_id','customer_id'],axis=1,inplace=True)"
   ]
  },
  {
   "cell_type": "code",
   "execution_count": 271,
   "metadata": {},
   "outputs": [
    {
     "data": {
      "text/plain": [
       "id                                      0\n",
       "redemption_status                   50226\n",
       "duration                                0\n",
       "start_date_dow                          0\n",
       "start_date_day                          0\n",
       "end_date_dow                            0\n",
       "end_date_day                            0\n",
       "rented                                  0\n",
       "income_bracket                          0\n",
       "coupon_occurence_count                  0\n",
       "coupon_unique_items_count               0\n",
       "Bakery_cat_count                        0\n",
       "Dairy, Juices & Snacks_cat_count        0\n",
       "Flowers & Plants_cat_count              0\n",
       "Garden_cat_count                        0\n",
       "Grocery_cat_count                       0\n",
       "Meat_cat_count                          0\n",
       "Miscellaneous_cat_count                 0\n",
       "Natural Products_cat_count              0\n",
       "Packaged Meat_cat_count                 0\n",
       "Pharmaceutical_cat_count                0\n",
       "Prepared Food_cat_count                 0\n",
       "Restauarant_cat_count                   0\n",
       "Salads_cat_count                        0\n",
       "Seafood_cat_count                       0\n",
       "Skin & Hair Care_cat_count              0\n",
       "Travel_cat_count                        0\n",
       "Vegetables (cut)_cat_count              0\n",
       "coupon_unique_category_count            0\n",
       "Established_brand_count                 0\n",
       "                                    ...  \n",
       "min_selling_price                       0\n",
       "25%_selling_price                       0\n",
       "50%_selling_price                       0\n",
       "75%_selling_price                       0\n",
       "max_selling_price                       0\n",
       "cust_unique_selling_price_count         0\n",
       "count_quantity                          0\n",
       "mean_quantity                           0\n",
       "std_quantity                            0\n",
       "min_quantity                            0\n",
       "25%_quantity                            0\n",
       "50%_quantity                            0\n",
       "75%_quantity                            0\n",
       "max_quantity                            0\n",
       "cust_unique_quantity_count              0\n",
       "diff                                    0\n",
       "data                                    0\n",
       "campaign_type_X                         0\n",
       "campaign_type_Y                         0\n",
       "marital_status_married                  0\n",
       "marital_status_single                   0\n",
       "family_size_1                           0\n",
       "family_size_2                           0\n",
       "family_size_3                           0\n",
       "family_size_4                           0\n",
       "family_size_5                           0\n",
       "no_of_children_1                        0\n",
       "no_of_children_2                        0\n",
       "no_of_children_3                        0\n",
       "age                                     0\n",
       "Length: 108, dtype: int64"
      ]
     },
     "execution_count": 271,
     "metadata": {},
     "output_type": "execute_result"
    }
   ],
   "source": [
    "amex_all.isnull().sum()"
   ]
  },
  {
   "cell_type": "code",
   "execution_count": 270,
   "metadata": {},
   "outputs": [],
   "source": [
    "for col in amex_all.columns:\n",
    "    if (col not in ['redemption_status','data'])& (amex_all[col].isnull().sum()>0):\n",
    "        amex_all.loc[amex_all[col].isnull(),col]=amex_all.loc[amex_all['data']=='train',col].mean()"
   ]
  },
  {
   "cell_type": "code",
   "execution_count": 272,
   "metadata": {},
   "outputs": [
    {
     "name": "stderr",
     "output_type": "stream",
     "text": [
      "C:\\Users\\deepak kumar\\Anaconda3\\lib\\site-packages\\pandas\\core\\frame.py:3940: SettingWithCopyWarning: \n",
      "A value is trying to be set on a copy of a slice from a DataFrame\n",
      "\n",
      "See the caveats in the documentation: http://pandas.pydata.org/pandas-docs/stable/indexing.html#indexing-view-versus-copy\n",
      "  errors=errors)\n"
     ]
    }
   ],
   "source": [
    "train_all=amex_all[amex_all['data']=='train']\n",
    "del train_all['data']\n",
    "test_all=amex_all[amex_all['data']=='test']\n",
    "test_all.drop(['redemption_status','data'],axis=1,inplace=True)"
   ]
  },
  {
   "cell_type": "code",
   "execution_count": 273,
   "metadata": {},
   "outputs": [],
   "source": [
    "del amex_all"
   ]
  },
  {
   "cell_type": "code",
   "execution_count": 274,
   "metadata": {},
   "outputs": [],
   "source": [
    "train1,train2=train_test_split(train_all,test_size=0.2,random_state=2)"
   ]
  },
  {
   "cell_type": "code",
   "execution_count": 275,
   "metadata": {},
   "outputs": [],
   "source": [
    "x_train=train1.drop(['redemption_status'],axis=1)\n",
    "y_train=train1['redemption_status']\n",
    "x_test=train2.drop(['redemption_status'],axis=1)\n",
    "y_test=train2['redemption_status']"
   ]
  },
  {
   "cell_type": "code",
   "execution_count": 276,
   "metadata": {},
   "outputs": [],
   "source": [
    "x_train.reset_index(drop=True,inplace=True)\n",
    "y_train.reset_index(drop=True,inplace=True)"
   ]
  },
  {
   "cell_type": "code",
   "execution_count": 134,
   "metadata": {},
   "outputs": [],
   "source": [
    "def report(results, n_top=3):\n",
    "    for i in range(1, n_top + 1):\n",
    "        candidates = np.flatnonzero(results['rank_test_score'] == i)\n",
    "        for candidate in candidates:\n",
    "            print(\"Model with rank: {0}\".format(i))\n",
    "            print(\"Mean validation score: {0:.3f} (std: {1:.5f})\".format(\n",
    "                  results['mean_test_score'][candidate],\n",
    "                  results['std_test_score'][candidate]))\n",
    "            print(\"Parameters: {0}\".format(results['params'][candidate]))\n",
    "            print(\"\")"
   ]
  },
  {
   "cell_type": "code",
   "execution_count": 277,
   "metadata": {},
   "outputs": [],
   "source": [
    "x_train1=train_all.drop(['redemption_status'],axis=1)\n",
    "y_train1=train_all['redemption_status']"
   ]
  },
  {
   "cell_type": "markdown",
   "metadata": {},
   "source": [
    "# Using Xgboost"
   ]
  },
  {
   "cell_type": "code",
   "execution_count": 278,
   "metadata": {},
   "outputs": [],
   "source": [
    "param_dist = {\n",
    "              \"max_depth\": [2,3,4,5,6],\n",
    "              \"learning_rate\":[0.01,0.05,0.1,0.3,0.5],\n",
    "    \"min_child_weight\":[4,5,6],\n",
    "              \"subsample\":[i/10.0 for i in range(6,10)],\n",
    " \"colsample_bytree\":[i/10.0 for i in range(6,10)],\n",
    "               \"reg_alpha\":[1e-5, 1e-2, 0.1, 1, 100],\n",
    "              \"gamma\":[i/10.0 for i in range(0,5)],\n",
    "    \"n_estimators\":[100,500,700,1000],\n",
    "    'scale_pos_weight':[2,3,4,5,6,7,8,9]\n",
    "    \n",
    "              }\n"
   ]
  },
  {
   "cell_type": "code",
   "execution_count": 279,
   "metadata": {},
   "outputs": [],
   "source": [
    "from xgboost.sklearn import XGBClassifier"
   ]
  },
  {
   "cell_type": "code",
   "execution_count": 280,
   "metadata": {},
   "outputs": [],
   "source": [
    "clf=XGBClassifier(objective='binary:logistic')"
   ]
  },
  {
   "cell_type": "code",
   "execution_count": 281,
   "metadata": {},
   "outputs": [],
   "source": [
    "n_iter=10\n",
    "\n",
    "random_search=RandomizedSearchCV(clf,n_jobs=-1,verbose=2,cv=10,n_iter=n_iter,scoring='roc_auc',\n",
    "                                 param_distributions=param_dist)"
   ]
  },
  {
   "cell_type": "code",
   "execution_count": null,
   "metadata": {},
   "outputs": [
    {
     "name": "stdout",
     "output_type": "stream",
     "text": [
      "Fitting 10 folds for each of 10 candidates, totalling 100 fits\n"
     ]
    },
    {
     "name": "stderr",
     "output_type": "stream",
     "text": [
      "[Parallel(n_jobs=-1)]: Using backend LokyBackend with 4 concurrent workers.\n"
     ]
    }
   ],
   "source": [
    "random_search.fit(x_train1,y_train1)\n"
   ]
  },
  {
   "cell_type": "code",
   "execution_count": 169,
   "metadata": {},
   "outputs": [
    {
     "name": "stdout",
     "output_type": "stream",
     "text": [
      "Model with rank: 1\n",
      "Mean validation score: 0.930 (std: 0.00861)\n",
      "Parameters: {'subsample': 0.7, 'scale_pos_weight': 2, 'reg_alpha': 1e-05, 'n_estimators': 500, 'min_child_weight': 5, 'max_depth': 6, 'learning_rate': 0.05, 'gamma': 0.4, 'colsample_bytree': 0.8}\n",
      "\n",
      "Model with rank: 2\n",
      "Mean validation score: 0.928 (std: 0.01334)\n",
      "Parameters: {'subsample': 0.6, 'scale_pos_weight': 8, 'reg_alpha': 100, 'n_estimators': 500, 'min_child_weight': 6, 'max_depth': 4, 'learning_rate': 0.5, 'gamma': 0.0, 'colsample_bytree': 0.6}\n",
      "\n",
      "Model with rank: 3\n",
      "Mean validation score: 0.927 (std: 0.00867)\n",
      "Parameters: {'subsample': 0.8, 'scale_pos_weight': 5, 'reg_alpha': 1, 'n_estimators': 500, 'min_child_weight': 5, 'max_depth': 3, 'learning_rate': 0.1, 'gamma': 0.0, 'colsample_bytree': 0.9}\n",
      "\n",
      "Model with rank: 4\n",
      "Mean validation score: 0.920 (std: 0.01831)\n",
      "Parameters: {'subsample': 0.6, 'scale_pos_weight': 5, 'reg_alpha': 100, 'n_estimators': 700, 'min_child_weight': 5, 'max_depth': 5, 'learning_rate': 0.05, 'gamma': 0.3, 'colsample_bytree': 0.9}\n",
      "\n",
      "Model with rank: 5\n",
      "Mean validation score: 0.918 (std: 0.01234)\n",
      "Parameters: {'subsample': 0.6, 'scale_pos_weight': 7, 'reg_alpha': 1e-05, 'n_estimators': 100, 'min_child_weight': 4, 'max_depth': 4, 'learning_rate': 0.3, 'gamma': 0.1, 'colsample_bytree': 0.6}\n",
      "\n"
     ]
    }
   ],
   "source": [
    "report(random_search.cv_results_,5)"
   ]
  },
  {
   "cell_type": "code",
   "execution_count": 191,
   "metadata": {},
   "outputs": [],
   "source": [
    "xgb_best=XGBClassifier(subsample=0.95,scale_pos_weight=2,reg_alpha=1e-05,n_estimators=970,min_child_weight=6,\n",
    "                       max_depth=12,learning_rate=0.35,gamma=0.95,colsample_bytree=0.8\n",
    "                      )"
   ]
  },
  {
   "cell_type": "code",
   "execution_count": 192,
   "metadata": {},
   "outputs": [
    {
     "data": {
      "text/plain": [
       "XGBClassifier(base_score=0.5, booster='gbtree', colsample_bylevel=1,\n",
       "       colsample_bynode=1, colsample_bytree=0.8, gamma=0.95,\n",
       "       learning_rate=0.35, max_delta_step=0, max_depth=12,\n",
       "       min_child_weight=6, missing=None, n_estimators=970, n_jobs=1,\n",
       "       nthread=None, objective='binary:logistic', random_state=0,\n",
       "       reg_alpha=1e-05, reg_lambda=1, scale_pos_weight=2, seed=None,\n",
       "       silent=None, subsample=0.95, verbosity=1)"
      ]
     },
     "execution_count": 192,
     "metadata": {},
     "output_type": "execute_result"
    }
   ],
   "source": [
    "xgb_best.fit(x_train1,y_train1)"
   ]
  },
  {
   "cell_type": "code",
   "execution_count": 193,
   "metadata": {},
   "outputs": [],
   "source": [
    "test_score=xgb_best.predict_proba(test_all)[:,1]"
   ]
  },
  {
   "cell_type": "code",
   "execution_count": 194,
   "metadata": {},
   "outputs": [
    {
     "data": {
      "text/plain": [
       "array([1.52213246e-01, 1.08303015e-04, 4.29212674e-02, ...,\n",
       "       1.19240135e-02, 5.53393643e-03, 5.00383503e-05], dtype=float32)"
      ]
     },
     "execution_count": 194,
     "metadata": {},
     "output_type": "execute_result"
    }
   ],
   "source": [
    "test_score"
   ]
  },
  {
   "cell_type": "code",
   "execution_count": 90,
   "metadata": {},
   "outputs": [],
   "source": [
    "pd.DataFrame(test_score).to_csv(\"Deepak_kumar.csv\",index=False)"
   ]
  },
  {
   "cell_type": "code",
   "execution_count": 197,
   "metadata": {},
   "outputs": [
    {
     "data": {
      "text/plain": [
       "array([0.01, 0.02, 0.03, 0.04, 0.05, 0.06, 0.07, 0.08, 0.09, 0.1 , 0.11,\n",
       "       0.12, 0.13, 0.14, 0.15, 0.16, 0.17, 0.18, 0.19, 0.2 , 0.21, 0.22,\n",
       "       0.23, 0.24, 0.25, 0.26, 0.27, 0.28, 0.29, 0.3 , 0.31, 0.32, 0.33,\n",
       "       0.34, 0.35, 0.36, 0.37, 0.38, 0.39, 0.4 , 0.41, 0.42, 0.43, 0.44,\n",
       "       0.45, 0.46, 0.47, 0.48, 0.49, 0.5 , 0.51, 0.52, 0.53, 0.54, 0.55,\n",
       "       0.56, 0.57, 0.58, 0.59, 0.6 , 0.61, 0.62, 0.63, 0.64, 0.65, 0.66,\n",
       "       0.67, 0.68, 0.69, 0.7 , 0.71, 0.72, 0.73, 0.74, 0.75, 0.76, 0.77,\n",
       "       0.78, 0.79, 0.8 , 0.81, 0.82, 0.83, 0.84, 0.85, 0.86, 0.87, 0.88,\n",
       "       0.89, 0.9 , 0.91, 0.92, 0.93, 0.94, 0.95, 0.96, 0.97, 0.98, 0.99])"
      ]
     },
     "execution_count": 197,
     "metadata": {},
     "output_type": "execute_result"
    }
   ],
   "source": [
    "cutoffs=np.linspace(0.01,0.99,99)\n",
    "\n",
    "cutoffs"
   ]
  },
  {
   "cell_type": "code",
   "execution_count": 198,
   "metadata": {},
   "outputs": [],
   "source": [
    "train_score=xgb_best.predict_proba(x_train1)[:,1]\n",
    "\n",
    "real=y_train1"
   ]
  },
  {
   "cell_type": "code",
   "execution_count": 199,
   "metadata": {},
   "outputs": [],
   "source": [
    "     KS_cut=[]\n",
    "     for cutoff in cutoffs:\n",
    "        predicted=(train_score>cutoff).astype(int)\n",
    "        \n",
    "        TP=((predicted==1) & (real==1)).sum()\n",
    "        TN=((predicted==0) & (real==0)).sum()\n",
    "        FP=((predicted==1) & (real==0)).sum()\n",
    "        FN=((predicted==0) & (real==1)).sum()\n",
    "        \n",
    "        P=TP+FN\n",
    "        N=TN+FP\n",
    "        KS=(TP/P)-(FP/N)\n",
    "        KS_cut.append(KS)\n",
    "        \n",
    "        cutoff_data=pd.DataFrame(list(zip(cutoffs,KS_cut)),columns=[\"cutoff\",\"KS\"])\n",
    "        \n",
    "        KS_cutoff=cutoff_data[cutoff_data[\"KS\"]==cutoff_data[\"KS\"].max()][\"cutoff\"]\n",
    "        "
   ]
  },
  {
   "cell_type": "code",
   "execution_count": 200,
   "metadata": {},
   "outputs": [
    {
     "data": {
      "text/plain": [
       "0.41000000000000003"
      ]
     },
     "execution_count": 200,
     "metadata": {},
     "output_type": "execute_result"
    }
   ],
   "source": [
    "mycutoff=cutoffs[KS_cut==max(KS_cut)][0]  \n",
    "mycutoff "
   ]
  },
  {
   "cell_type": "code",
   "execution_count": 201,
   "metadata": {},
   "outputs": [
    {
     "data": {
      "text/plain": [
       "array([1.52213246e-01, 1.08303015e-04, 4.29212674e-02, ...,\n",
       "       1.19240135e-02, 5.53393643e-03, 5.00383503e-05], dtype=float32)"
      ]
     },
     "execution_count": 201,
     "metadata": {},
     "output_type": "execute_result"
    }
   ],
   "source": [
    "test_score=xgb_best.predict_proba(test_all)[:,1]\n",
    "test_score"
   ]
  },
  {
   "cell_type": "code",
   "execution_count": 202,
   "metadata": {},
   "outputs": [],
   "source": [
    "test_classes=(test_score>mycutoff).astype(int) "
   ]
  },
  {
   "cell_type": "code",
   "execution_count": 203,
   "metadata": {},
   "outputs": [],
   "source": [
    "pd.DataFrame(list(zip(test_all['id'],test_classes)),columns=[\"id\",\"redemption_status\"]).to_csv('xgboost_new.csv',index=False)\n"
   ]
  },
  {
   "cell_type": "code",
   "execution_count": 204,
   "metadata": {},
   "outputs": [],
   "source": [
    "pd.DataFrame(list(zip(test_all['id'],test_score)),columns=[\"id\",\"redemption_status\"]).to_csv('xgboost1_new.csv',index=False)\n"
   ]
  },
  {
   "cell_type": "code",
   "execution_count": null,
   "metadata": {},
   "outputs": [],
   "source": []
  }
 ],
 "metadata": {
  "kernelspec": {
   "display_name": "Python 3",
   "language": "python",
   "name": "python3"
  },
  "language_info": {
   "codemirror_mode": {
    "name": "ipython",
    "version": 3
   },
   "file_extension": ".py",
   "mimetype": "text/x-python",
   "name": "python",
   "nbconvert_exporter": "python",
   "pygments_lexer": "ipython3",
   "version": "3.7.3"
  }
 },
 "nbformat": 4,
 "nbformat_minor": 2
}
