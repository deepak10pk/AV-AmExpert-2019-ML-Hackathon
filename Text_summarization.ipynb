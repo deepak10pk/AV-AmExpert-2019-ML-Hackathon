{
  "nbformat": 4,
  "nbformat_minor": 0,
  "metadata": {
    "colab": {
      "name": "Text_summarization.ipynb",
      "provenance": [],
      "authorship_tag": "ABX9TyNol5M88y+Tn16pYDyqd/Fi",
      "include_colab_link": true
    },
    "kernelspec": {
      "name": "python3",
      "display_name": "Python 3"
    }
  },
  "cells": [
    {
      "cell_type": "markdown",
      "metadata": {
        "id": "view-in-github",
        "colab_type": "text"
      },
      "source": [
        "<a href=\"https://colab.research.google.com/github/deepak10pk/AV-AmExpert-2019-ML-Hackathon/blob/master/Text_summarization.ipynb\" target=\"_parent\"><img src=\"https://colab.research.google.com/assets/colab-badge.svg\" alt=\"Open In Colab\"/></a>"
      ]
    },
    {
      "cell_type": "code",
      "metadata": {
        "id": "FMc45dqiLBSB",
        "colab_type": "code",
        "colab": {}
      },
      "source": [
        "import nltk\n",
        "from nltk.corpus import stopwords\n",
        "from nltk.cluster.util import cosine_distance\n",
        "import numpy as np\n",
        "import networkx as nx"
      ],
      "execution_count": 1,
      "outputs": []
    },
    {
      "cell_type": "code",
      "metadata": {
        "id": "P7iVdIqKLUiq",
        "colab_type": "code",
        "colab": {}
      },
      "source": [
        "def read_article(file_name):\n",
        "    file = open(file_name, \"r\")\n",
        "    filedata = file.readlines()\n",
        "    article = filedata[0].split(\". \")\n",
        "    sentences = []\n",
        "\n",
        "    for sentence in article:\n",
        "        print(sentence)\n",
        "        sentences.append(sentence.replace(\"[^a-zA-Z]\", \" \").split(\" \"))\n",
        "    sentences.pop() \n",
        "    \n",
        "    return sentences"
      ],
      "execution_count": 2,
      "outputs": []
    },
    {
      "cell_type": "code",
      "metadata": {
        "id": "Qv5V4ZwgLaUP",
        "colab_type": "code",
        "colab": {}
      },
      "source": [
        "def sentence_similarity(sent1, sent2, stopwords=None):\n",
        "    if stopwords is None:\n",
        "        stopwords = []\n",
        " \n",
        "    sent1 = [w.lower() for w in sent1]\n",
        "    sent2 = [w.lower() for w in sent2]\n",
        " \n",
        "    all_words = list(set(sent1 + sent2))\n",
        " \n",
        "    vector1 = [0] * len(all_words)\n",
        "    vector2 = [0] * len(all_words)\n",
        " \n",
        "    # build the vector for the first sentence\n",
        "    for w in sent1:\n",
        "        if w in stopwords:\n",
        "            continue\n",
        "        vector1[all_words.index(w)] += 1\n",
        " \n",
        "    # build the vector for the second sentence\n",
        "    for w in sent2:\n",
        "        if w in stopwords:\n",
        "            continue\n",
        "        vector2[all_words.index(w)] += 1\n",
        " \n",
        "    return 1 - cosine_distance(vector1, vector2)"
      ],
      "execution_count": 3,
      "outputs": []
    },
    {
      "cell_type": "code",
      "metadata": {
        "id": "fIo6iFPzLe22",
        "colab_type": "code",
        "colab": {}
      },
      "source": [
        "def build_similarity_matrix(sentences, stop_words):\n",
        "    # Create an empty similarity matrix\n",
        "    similarity_matrix = np.zeros((len(sentences), len(sentences)))\n",
        " \n",
        "    for idx1 in range(len(sentences)):\n",
        "        for idx2 in range(len(sentences)):\n",
        "            if idx1 == idx2: #ignore if both are same sentences\n",
        "                continue \n",
        "            similarity_matrix[idx1][idx2] = sentence_similarity(sentences[idx1], sentences[idx2], stop_words)\n",
        "\n",
        "    return similarity_matrix"
      ],
      "execution_count": 4,
      "outputs": []
    },
    {
      "cell_type": "code",
      "metadata": {
        "id": "Ttdo-B_0Lh-8",
        "colab_type": "code",
        "colab": {}
      },
      "source": [
        "def generate_summary(file_name, top_n=5):\n",
        "    \n",
        "    stop_words = stopwords.words('english')\n",
        "    summarize_text = []\n",
        "\n",
        "    # Step 1 - Read text anc split it\n",
        "    sentences =  read_article(file_name)\n",
        "\n",
        "    # Step 2 - Generate Similary Martix across sentences\n",
        "    sentence_similarity_martix = build_similarity_matrix(sentences, stop_words)\n",
        "\n",
        "    # Step 3 - Rank sentences in similarity martix\n",
        "    sentence_similarity_graph = nx.from_numpy_array(sentence_similarity_martix)\n",
        "    scores = nx.pagerank(sentence_similarity_graph)\n",
        "\n",
        "    # Step 4 - Sort the rank and pick top sentences\n",
        "    ranked_sentence = sorted(((scores[i],s) for i,s in enumerate(sentences)), reverse=True)    \n",
        "    print(\"Indexes of top ranked_sentence order are \", ranked_sentence)    \n",
        "\n",
        "    for i in range(top_n):\n",
        "      summarize_text.append(\" \".join(ranked_sentence[i][1]))\n",
        "\n",
        "    # Step 5 - Offcourse, output the summarize texr\n",
        "    print(\"Summarize Text: \\n\", \". \".join(summarize_text))"
      ],
      "execution_count": 11,
      "outputs": []
    },
    {
      "cell_type": "code",
      "metadata": {
        "id": "nA-E10Y9LmBu",
        "colab_type": "code",
        "colab": {
          "base_uri": "https://localhost:8080/",
          "height": 445
        },
        "outputId": "0b2b24c0-e85b-4be9-d22a-b98a20351bc8"
      },
      "source": [
        "generate_summary(\"/content/10.txt\",2)"
      ],
      "execution_count": 14,
      "outputs": [
        {
          "output_type": "stream",
          "text": [
            "On a cliff there lived a young vulture with his mother.When he was old enough to fly, his mother took him high into the air and they circled together, watching the ground below\n",
            "“I want to show you something beautiful,” she told her son\n",
            "They saw an old gemsbok staggering through the heat\n",
            "“Look there\n",
            "That gemsbok won’t last long.”The two vultures flew down\n",
            "“This isn’t beautiful,” said the young vulture to his mother\n",
            "“This is horrible!” Sure enough, the buck collapsed right there and died.“I know,” said his mother\n",
            "“Death is very difficult, and very sad\n",
            "But it is also beautiful.” “No ways,” said the young vulture\n",
            "“Yuck.” “Just wait,” she said\n",
            "“We will come back here soon and you will see.”The next week, they visited the dead buck\n",
            "Its skeleton was clean and white, and tiny plants had started to grow between the bones.The week after that, the shoots had grown tall and blossomed\n",
            "A butterfly sipped at the flowers and a songololo rested in their shade.A week later, a pair of weavers was picking the leaves to build a nest\n",
            "Bees were collecting pollen from the blossoms\n",
            "And a spider had made her home between the buck’s horns.And the week after that, they saw a young gemsbok nibbling the tasty shoots.“Well?” said the vulture’s mother\n",
            "“Look at the life one buck has given\n",
            "He has given a spider a home and weavers a nest, fed bees and butterflies, sheltered a songololo, and helped the next generation of buck grow strong.” The young vulture smiled.The two of them flew back to their nest high up on the cliff.“It is not just our bodies we leave behind when we die,” said the mother vulture\n",
            "“We also leave our lessons and our love and our memories.”“Where do we leave all those things?” asked the little vulture\n",
            "“We leave them in our children and in our family and friends\n",
            "You are already my green patch on earth, Little Vulture\n",
            "And you will be, forever.”\n",
            "Indexes of top ranked_sentence order are  [(0.1283134179119817, ['He', 'has', 'given', 'a', 'spider', 'a', 'home', 'and', 'weavers', 'a', 'nest,', 'fed', 'bees', 'and', 'butterflies,', 'sheltered', 'a', 'songololo,', 'and', 'helped', 'the', 'next', 'generation', 'of', 'buck', 'grow', 'strong.”', 'The', 'young', 'vulture', 'smiled.The', 'two', 'of', 'them', 'flew', 'back', 'to', 'their', 'nest', 'high', 'up', 'on', 'the', 'cliff.“It', 'is', 'not', 'just', 'our', 'bodies', 'we', 'leave', 'behind', 'when', 'we', 'die,”', 'said', 'the', 'mother', 'vulture']), (0.11595545816117034, ['“This', 'isn’t', 'beautiful,”', 'said', 'the', 'young', 'vulture', 'to', 'his', 'mother']), (0.09009380862170754, ['And', 'a', 'spider', 'had', 'made', 'her', 'home', 'between', 'the', 'buck’s', 'horns.And', 'the', 'week', 'after', 'that,', 'they', 'saw', 'a', 'young', 'gemsbok', 'nibbling', 'the', 'tasty', 'shoots.“Well?”', 'said', 'the', 'vulture’s', 'mother']), (0.08710012182306225, ['But', 'it', 'is', 'also', 'beautiful.”', '“No', 'ways,”', 'said', 'the', 'young', 'vulture']), (0.0677794552677458, ['“We', 'also', 'leave', 'our', 'lessons', 'and', 'our', 'love', 'and', 'our', 'memories.”“Where', 'do', 'we', 'leave', 'all', 'those', 'things?”', 'asked', 'the', 'little', 'vulture']), (0.064884349567891, ['“This', 'is', 'horrible!”', 'Sure', 'enough,', 'the', 'buck', 'collapsed', 'right', 'there', 'and', 'died.“I', 'know,”', 'said', 'his', 'mother']), (0.06202066303671656, ['On', 'a', 'cliff', 'there', 'lived', 'a', 'young', 'vulture', 'with', 'his', 'mother.When', 'he', 'was', 'old', 'enough', 'to', 'fly,', 'his', 'mother', 'took', 'him', 'high', 'into', 'the', 'air', 'and', 'they', 'circled', 'together,', 'watching', 'the', 'ground', 'below']), (0.05571609223789328, ['“Look', 'at', 'the', 'life', 'one', 'buck', 'has', 'given']), (0.04268403557964684, ['You', 'are', 'already', 'my', 'green', 'patch', 'on', 'earth,', 'Little', 'Vulture']), (0.04097872579996574, ['“Yuck.”', '“Just', 'wait,”', 'she', 'said']), (0.03871477466626923, ['“We', 'will', 'come', 'back', 'here', 'soon', 'and', 'you', 'will', 'see.”The', 'next', 'week,', 'they', 'visited', 'the', 'dead', 'buck']), (0.03583793505193664, ['“We', 'leave', 'them', 'in', 'our', 'children', 'and', 'in', 'our', 'family', 'and', 'friends']), (0.03377278826636604, ['They', 'saw', 'an', 'old', 'gemsbok', 'staggering', 'through', 'the', 'heat']), (0.03198427969123682, ['“Look', 'there']), (0.028028598872266164, ['That', 'gemsbok', 'won’t', 'last', 'long.”The', 'two', 'vultures', 'flew', 'down']), (0.021786412847116417, ['Its', 'skeleton', 'was', 'clean', 'and', 'white,', 'and', 'tiny', 'plants', 'had', 'started', 'to', 'grow', 'between', 'the', 'bones.The', 'week', 'after', 'that,', 'the', 'shoots', 'had', 'grown', 'tall', 'and', 'blossomed']), (0.020583694905782553, ['A', 'butterfly', 'sipped', 'at', 'the', 'flowers', 'and', 'a', 'songololo', 'rested', 'in', 'their', 'shade.A', 'week', 'later,', 'a', 'pair', 'of', 'weavers', 'was', 'picking', 'the', 'leaves', 'to', 'build', 'a', 'nest']), (0.01408389986557344, ['“I', 'want', 'to', 'show', 'you', 'something', 'beautiful,”', 'she', 'told', 'her', 'son']), (0.011848589653348039, ['Bees', 'were', 'collecting', 'pollen', 'from', 'the', 'blossoms']), (0.00783289817232376, ['“Death', 'is', 'very', 'difficult,', 'and', 'very', 'sad'])]\n",
            "Summarize Text: \n",
            " He has given a spider a home and weavers a nest, fed bees and butterflies, sheltered a songololo, and helped the next generation of buck grow strong.” The young vulture smiled.The two of them flew back to their nest high up on the cliff.“It is not just our bodies we leave behind when we die,” said the mother vulture. “This isn’t beautiful,” said the young vulture to his mother\n"
          ],
          "name": "stdout"
        }
      ]
    },
    {
      "cell_type": "code",
      "metadata": {
        "id": "2pzF3rIkNLkV",
        "colab_type": "code",
        "colab": {}
      },
      "source": [
        ""
      ],
      "execution_count": null,
      "outputs": []
    }
  ]
}